{
 "cells": [
  {
   "cell_type": "markdown",
   "metadata": {},
   "source": [
    "# Compute hkl0 for a pixel given the following information\n",
    "* Ei, E, psi\n",
    "\n",
    "Tricky things\n",
    "* Make sure Ei is consistent with the beam simulation\n",
    "* Make sure the angles are in correct units"
   ]
  },
  {
   "cell_type": "code",
   "execution_count": 1,
   "metadata": {
    "collapsed": false
   },
   "outputs": [
    {
     "data": {
      "text/plain": [
       "u'/SNS/users/p63/notebooks/.rk-work/jnrk-sns-analysis-mcvine-unstable'"
      ]
     },
     "execution_count": 1,
     "metadata": {},
     "output_type": "execute_result"
    }
   ],
   "source": [
    "pwd"
   ]
  },
  {
   "cell_type": "code",
   "execution_count": 2,
   "metadata": {
    "collapsed": true
   },
   "outputs": [],
   "source": [
    "# some goodies\n",
    "# %matplotlib notebook\n",
    "%matplotlib inline\n",
    "from matplotlib import pyplot as plt"
   ]
  },
  {
   "cell_type": "code",
   "execution_count": 3,
   "metadata": {
    "collapsed": true
   },
   "outputs": [],
   "source": [
    "import numpy as np\n",
    "import histogram.hdf as hh, histogram as H"
   ]
  },
  {
   "cell_type": "code",
   "execution_count": 4,
   "metadata": {
    "collapsed": false
   },
   "outputs": [],
   "source": [
    "import mcvine.cli\n",
    "from mcvine_workflow.DGS import ARCS\n",
    "from mcvine_workflow import singlextal as sx\n",
    "from mcvine_workflow.sample import loadSampleYml\n",
    "from mcvine_workflow.singlextal import io as sxio, coords_transform, dynrange\n",
    "from mcvine_workflow.singlextal.resolution import use_covmat, use_res_comps"
   ]
  },
  {
   "cell_type": "code",
   "execution_count": 5,
   "metadata": {
    "collapsed": false
   },
   "outputs": [
    {
     "name": "stdout",
     "output_type": "stream",
     "text": [
      "/SNS/users/p63/ORNL_public_research/MCViNE_Covmat_comparison/notebooks/2-fix-pixel-position-v2\n"
     ]
    }
   ],
   "source": [
    "#workdir = '/SNS/users/lj7/simulations/ARCS/resolution-fit-covmat/2-fix-pixel-position'\n",
    "workdir = '/SNS/users/p63/ORNL_public_research/MCViNE_Covmat_comparison/notebooks/2-fix-pixel-position-v2'\n",
    "!mkdir -p {workdir}\n",
    "%cd {workdir}"
   ]
  },
  {
   "cell_type": "markdown",
   "metadata": {},
   "source": [
    "# Inputs"
   ]
  },
  {
   "cell_type": "markdown",
   "metadata": {},
   "source": [
    "## Instrument\n",
    "\n",
    "ARCS\n",
    "* Ei=100\n",
    "* Fermi chopper: 600 Hz\n",
    "* T0: 120Hz"
   ]
  },
  {
   "cell_type": "code",
   "execution_count": 6,
   "metadata": {
    "collapsed": true
   },
   "outputs": [],
   "source": [
    "instrument = use_covmat.instrument(\n",
    "    name = 'ARCS',\n",
    "    detsys_radius = \"3.*meter\",\n",
    "    L_m2s = \"13.6*meter\",\n",
    "    L_m2fc = \"11.61*meter\",\n",
    "    offset_sample2beam = \"-0.15*meter\" # offset from sample to saved beam\n",
    "    )\n",
    "pixel = use_covmat.pixel(\n",
    "    radius = \"0.5*inch\",\n",
    "    height = \"meter/128\",\n",
    "    pressure = \"10*atm\",\n",
    "    )"
   ]
  },
  {
   "cell_type": "markdown",
   "metadata": {},
   "source": [
    "## Sample"
   ]
  },
  {
   "cell_type": "code",
   "execution_count": 7,
   "metadata": {
    "collapsed": false
   },
   "outputs": [
    {
     "name": "stdout",
     "output_type": "stream",
     "text": [
      "Overwriting Si.yml\n"
     ]
    }
   ],
   "source": [
    "%%file Si.yml\n",
    "name: Si\n",
    "chemical_formula: Si2\n",
    "lattice: \n",
    " constants: 5.490700041, 5.490700041, 5.490700041, 90, 90, 90\n",
    " basis_vectors:\n",
    "  - 5.490700041, 0, 0\n",
    "  - 0, 5.490700041, 0\n",
    "  - 0, 0, 5.490700041\n",
    " primitive_basis_vectors:\n",
    "  - 0.0, 2.71526503565, 2.71526503565\n",
    "  - 2.71526503565, 0.0, 2.71526503565\n",
    "  - 2.71526503565, 2.71526503565, 0.0\n",
    "excitations:\n",
    "  - type: DGSresolution\n",
    "orientation:\n",
    " u: -1, 1, -1\n",
    " v: 2, 1, -1\n",
    "shape: hollowCylinder in_radius=\"5./8*inch\" out_radius=\"1.*inch\" height=\"1.5*inch\"\n",
    "temperature: 100*K"
   ]
  },
  {
   "cell_type": "code",
   "execution_count": 8,
   "metadata": {
    "collapsed": true
   },
   "outputs": [],
   "source": [
    "sample_yml = './Si.yml'"
   ]
  },
  {
   "cell_type": "markdown",
   "metadata": {},
   "source": [
    "## ** Dynamics parameters"
   ]
  },
  {
   "cell_type": "code",
   "execution_count": 9,
   "metadata": {
    "collapsed": true
   },
   "outputs": [],
   "source": [
    "Ei = 100\n",
    "q = 0\n",
    "E = 20.  # energy transfer"
   ]
  },
  {
   "cell_type": "code",
   "execution_count": 10,
   "metadata": {
    "collapsed": false
   },
   "outputs": [
    {
     "name": "stdout",
     "output_type": "stream",
     "text": [
      "30.0\n"
     ]
    }
   ],
   "source": [
    "xo = sxio.loadXtalOriFromSampleYml('Si.yml')\n",
    "# change psi if needed\n",
    "xo.psi = np.deg2rad(30.)\n",
    "print np.rad2deg(xo.psi)"
   ]
  },
  {
   "cell_type": "markdown",
   "metadata": {},
   "source": [
    "## Compute hkl0"
   ]
  },
  {
   "cell_type": "code",
   "execution_count": 11,
   "metadata": {
    "collapsed": false
   },
   "outputs": [
    {
     "name": "stdout",
     "output_type": "stream",
     "text": [
      "[ 0.]\n",
      "[ 5.]\n",
      "[ 20.]\n",
      "[-0.79888382 -0.10818693  0.10818693]\n"
     ]
    }
   ],
   "source": [
    "# coords_transform.rtzE2hkl only takes arrays as input parameters\n",
    "# so we create some arrays of size 1 here\n",
    "N = 1  # number of pixels\n",
    "zs = np.zeros(N) # z of pixels\n",
    "thetas = np.arange(5., 5.+(N-0.5)*10., 10.) # scattering angles of pixels. unit degree\n",
    "Es = np.ones(N)*E # energy transfers\n",
    "rs = np.ones(N)*3. # radius of the cylinder of the det system\n",
    "print zs\n",
    "print thetas\n",
    "print Es\n",
    "\n",
    "hkl0s = coords_transform.rtzE2hkl(r=rs, theta=np.deg2rad(thetas), z=zs, E=Es, xtalori=xo, Ei=Ei)\n",
    "hkl0 = hkl0s[0]\n",
    "print hkl0"
   ]
  },
  {
   "cell_type": "code",
   "execution_count": 12,
   "metadata": {
    "collapsed": true
   },
   "outputs": [],
   "source": [
    "hkl_dir = np.array([0,0,1]) # projection can be changed\n",
    "hkl = hkl0+q*hkl_dir"
   ]
  },
  {
   "cell_type": "code",
   "execution_count": 13,
   "metadata": {
    "collapsed": false
   },
   "outputs": [
    {
     "name": "stdout",
     "output_type": "stream",
     "text": [
      "[-0.79888382 -0.10818693  0.10818693] [0 0 1] [-0.79888382 -0.10818693  0.10818693] 0 20.0\n"
     ]
    }
   ],
   "source": [
    "print hkl0, hkl_dir, hkl, q, E"
   ]
  },
  {
   "cell_type": "markdown",
   "metadata": {},
   "source": [
    "## ** Other parameters"
   ]
  },
  {
   "cell_type": "code",
   "execution_count": 14,
   "metadata": {
    "collapsed": true
   },
   "outputs": [],
   "source": [
    "# scan\n",
    "class psi_scan:\n",
    "    min = -5\n",
    "    max = 90.\n",
    "    step = 1."
   ]
  },
  {
   "cell_type": "markdown",
   "metadata": {},
   "source": [
    "# Dynamic range\n",
    "**This is optional.** Just to have an idea of the dynamical range"
   ]
  },
  {
   "cell_type": "code",
   "execution_count": 15,
   "metadata": {
    "collapsed": true
   },
   "outputs": [],
   "source": [
    "sample = loadSampleYml(sample_yml)\n",
    "psilist = np.arange(psi_scan.min, psi_scan.max, 5*psi_scan.step)\n",
    "qaxis = np.arange(-100, 100, .02)"
   ]
  },
  {
   "cell_type": "code",
   "execution_count": 16,
   "metadata": {
    "collapsed": false
   },
   "outputs": [
    {
     "name": "stderr",
     "output_type": "stream",
     "text": [
      "/SNS/software/miniconda2/envs/mcvine-unstable/share/mcvine/workflow/mcvine_workflow/singlextal/dynrange.py:86: RuntimeWarning: invalid value encountered in arcsin\n",
      "  phi = np.arcsin(kfv[:, 2], kf)\n",
      "/SNS/software/miniconda2/envs/mcvine-unstable/share/mcvine/workflow/mcvine_workflow/DGS/ARCS.py:11: RuntimeWarning: invalid value encountered in less\n",
      "  return ((theta<135.) * (theta > 3.) + (theta < -3)*(theta>-28)) * (phi<26.565) * (phi>-26.565)\n",
      "/SNS/software/miniconda2/envs/mcvine-unstable/share/mcvine/workflow/mcvine_workflow/DGS/ARCS.py:11: RuntimeWarning: invalid value encountered in greater\n",
      "  return ((theta<135.) * (theta > 3.) + (theta < -3)*(theta>-28)) * (phi<26.565) * (phi>-26.565)\n"
     ]
    },
    {
     "data": {
      "text/plain": [
       "(-4.8576370515032892, 27.126114945090904)"
      ]
     },
     "execution_count": 16,
     "metadata": {},
     "output_type": "execute_result"
    },
    {
     "data": {
      "image/png": "[encoded data removed]",
      "text/plain": [
       "<matplotlib.figure.Figure at 0x7fa79bed6750>"
      ]
     },
     "metadata": {},
     "output_type": "display_data"
    }
   ],
   "source": [
    "plt.figure(figsize=(7,5))\n",
    "points_in_slice = list(dynrange.iterPointsInSlice(\n",
    "        sample, psilist, Ei, hkl0, hkl_dir, qaxis,\n",
    "        ARCS.scattering_angle_constraints,\n",
    "        Erange=(-Ei, Ei)))\n",
    "all_qs = np.concatenate([qs for _p, qs, _E in points_in_slice ])\n",
    "qmin = np.min(all_qs); qmax = np.max(all_qs)\n",
    "\n",
    "all_Es = np.concatenate([Es for _p, _q, Es in points_in_slice ])\n",
    "Emin = np.min(all_Es); Emax = np.max(all_Es)\n",
    "\n",
    "for psi, qs, Es in points_in_slice:\n",
    "    plt.plot(qs, Es, label=str(psi))\n",
    "    continue\n",
    "    \n",
    "plt.legend()\n",
    "plt.xlim(qmin, qmax+(qmax-qmin)/5)\n",
    "plt.ylim(Emin, Emax)"
   ]
  },
  {
   "cell_type": "code",
   "execution_count": 17,
   "metadata": {
    "collapsed": false
   },
   "outputs": [
    {
     "name": "stdout",
     "output_type": "stream",
     "text": [
      "[-0.79888382 -0.10818693  0.10818693]\n"
     ]
    }
   ],
   "source": [
    "print hkl"
   ]
  },
  {
   "cell_type": "code",
   "execution_count": 18,
   "metadata": {
    "collapsed": false
   },
   "outputs": [
    {
     "name": "stdout",
     "output_type": "stream",
     "text": [
      "Ei=100.538483519, t0=19.516533925\n",
      "Computed:\n",
      "* psi=29.7857729762 degree\n",
      "* Q=[  7.55020156e-01  -5.44370306e-01  -2.77555756e-17]\n",
      "* hkl2Qmat=[[ -1.03754027e+00   4.82707535e-01   3.50307614e-17]\n",
      " [  3.41325771e-01   7.33651759e-01  -8.09165116e-01]\n",
      " [ -3.41325771e-01  -7.33651759e-01  -8.09165116e-01]]\n",
      "* ki=6.96559982195\n",
      "* vectors ki=[ 6.96559982  0.          0.        ], kf=[  6.21057967e+00   5.44370306e-01   2.77555756e-17]\n",
      "These two numbers should be very close:\n",
      "  20.0\n",
      "  20.0\n",
      "  Ei=100.538483519, Ef=80.538483519\n",
      "* Ef=80.538483519\n",
      "* pixel positon=[  2.98854165e+00   2.61951930e-01   1.33560309e-17]\n",
      "* pixel_position=[  2.98854165e+00   2.61951930e-01   1.33560309e-17]\n",
      "t_m2s=0.00312050823099, t_s2p=0.000764271017914, t_m2p=0.00388477924891\n"
     ]
    },
    {
     "name": "stderr",
     "output_type": "stream",
     "text": [
      "/SNS/software/miniconda2/envs/mcvine-unstable/share/mcvine/workflow/mcvine_workflow/singlextal/solve_psi.py:55: UserWarning: Traceback (most recent call last):\n",
      "  File \"/SNS/software/miniconda2/envs/mcvine-unstable/share/mcvine/workflow/mcvine_workflow/singlextal/solve_psi.py\", line 52, in solve\n",
      "    results.append(solver(res, min, max))\n",
      "  File \"/SNS/software/miniconda2/envs/mcvine-unstable/lib/python2.7/site-packages/scipy/optimize/zeros.py\", line 442, in brentq\n",
      "    r = _zeros._brentq(f,a,b,xtol,rtol,maxiter,args,full_output,disp)\n",
      "ValueError: f(a) and f(b) must have different signs\n",
      "\n",
      "  warnings.warn(tb.format_exc())\n"
     ]
    }
   ],
   "source": [
    "outdir = 'tmp.use_res_comps'\n",
    "!rm -rf {outdir}\n",
    "beam = '/SNS/users/lj7/simulations/ARCS/beam/100meV-n1e10/'\n",
    "use_res_comps.setup(outdir, sample_yml, beam, E, hkl, hkl_dir, psi_scan, instrument, pixel)"
   ]
  },
  {
   "cell_type": "code",
   "execution_count": 22,
   "metadata": {
    "collapsed": false
   },
   "outputs": [
    {
     "name": "stdout",
     "output_type": "stream",
     "text": [
      "/SNS/users/p63/ORNL_public_research/MCViNE_Covmat_comparison/notebooks/2-fix-pixel-position-v2\n",
      "Si.yml\ttmp.use_res_comps\n",
      "run.py\tsample\n"
     ]
    }
   ],
   "source": [
    "!pwd\n",
    "!ls\n",
    "!ls tmp.use_res_comps/\n",
    "#ls tmp.use_res_comps/"
   ]
  },
  {
   "cell_type": "code",
   "execution_count": 23,
   "metadata": {
    "collapsed": false
   },
   "outputs": [
    {
     "name": "stdout",
     "output_type": "stream",
     "text": [
      "/SNS/users/p63/ORNL_public_research/MCViNE_Covmat_comparison/notebooks/2-fix-pixel-position-v2/tmp.use_res_comps\n",
      "weight:  1.0\n",
      "0-99999: ........../SNS/software/miniconda2/envs/mcvine-unstable/lib/python2.7/site-packages/mcni/SimulationContext.py:39: UserWarning: output directory was not set\n",
      "  warnings.warn(\"output directory was not set\")\n",
      "\n",
      "100000-199999: ..........\n",
      "200000-299999: ..........\n",
      "300000-399999: ..........\n",
      "400000-499999: ..........\n",
      "500000-599999: ..........\n",
      "600000-699999: ..........\n",
      "700000-799999: ..........\n",
      "800000-899999: ..........\n",
      "900000-999999: ..........\n",
      "1000000-1099999: ..........\n",
      "1100000-1199999: ..........\n",
      "1200000-1299999: ..........\n",
      "1300000-1399999: ..........\n",
      "1400000-1499999: ..........\n",
      "1500000-1599999: ..........\n",
      "1600000-1699999: ..........\n",
      "1700000-1799999: ..........\n",
      "1800000-1899999: ..........\n",
      "1900000-1999999: ..........\n",
      "2000000-2099999: ..........\n",
      "2100000-2199999: ..........\n",
      "2200000-2299999: ..........\n",
      "2300000-2399999: ..........\n",
      "2400000-2499999: ..........\n",
      "2500000-2599999: ..........\n",
      "2600000-2699999: ..........\n",
      "2700000-2748895: ..........\n",
      "Done.\n",
      "/SNS/users/p63/ORNL_public_research/MCViNE_Covmat_comparison/notebooks/2-fix-pixel-position-v2\n",
      "CPU times: user 12.7 s, sys: 3.97 s, total: 16.7 s\n",
      "Wall time: 10min 27s\n"
     ]
    }
   ],
   "source": [
    "%%time\n",
    "#%%script bash\n",
    "#cd tmp.use_res_comps/\n",
    "#python run.py\n",
    "%cd tmp.use_res_comps/\n",
    "!python run.py\n",
    "%cd {workdir}"
   ]
  },
  {
   "cell_type": "code",
   "execution_count": null,
   "metadata": {
    "collapsed": true
   },
   "outputs": [],
   "source": []
  }
 ],
 "metadata": {
  "kernelspec": {
   "display_name": "mcvine-unstable at jnrk-sns-analysis",
   "language": "python",
   "name": "jnrk-sns-analysis-mcvine-unstable"
  },
  "language_info": {
   "codemirror_mode": {
    "name": "ipython",
    "version": 2
   },
   "file_extension": ".py",
   "mimetype": "text/x-python",
   "name": "python",
   "nbconvert_exporter": "python",
   "pygments_lexer": "ipython2",
   "version": "2.7.12"
  }
 },
 "nbformat": 4,
 "nbformat_minor": 0
}
