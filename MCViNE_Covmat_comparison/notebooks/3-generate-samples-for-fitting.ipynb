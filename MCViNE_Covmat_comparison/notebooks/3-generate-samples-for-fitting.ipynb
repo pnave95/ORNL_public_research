{
 "cells": [
  {
   "cell_type": "markdown",
   "metadata": {},
   "source": [
    "# Generate a series of hkl0 values\n",
    "\n",
    "Tricky things\n",
    "* Make sure Ei is consistent with the beam simulation\n",
    "* Make sure the angles are in correct units"
   ]
  },
  {
   "cell_type": "code",
   "execution_count": 1,
   "metadata": {
    "collapsed": false
   },
   "outputs": [
    {
     "data": {
      "text/plain": [
       "u'/SNS/users/lj7/notebooks/.rk-work/jnrk-analysis-mcvine-unstable'"
      ]
     },
     "execution_count": 1,
     "metadata": {},
     "output_type": "execute_result"
    }
   ],
   "source": [
    "pwd"
   ]
  },
  {
   "cell_type": "code",
   "execution_count": 2,
   "metadata": {
    "collapsed": true
   },
   "outputs": [],
   "source": [
    "# some goodies\n",
    "# %matplotlib notebook\n",
    "%matplotlib inline\n",
    "from matplotlib import pyplot as plt"
   ]
  },
  {
   "cell_type": "code",
   "execution_count": 37,
   "metadata": {
    "collapsed": true
   },
   "outputs": [],
   "source": [
    "import numpy as np, os\n",
    "import histogram.hdf as hh, histogram as H"
   ]
  },
  {
   "cell_type": "code",
   "execution_count": 4,
   "metadata": {
    "collapsed": false
   },
   "outputs": [],
   "source": [
    "import mcvine.cli\n",
    "from mcvine_workflow.DGS import ARCS\n",
    "from mcvine_workflow import singlextal as sx\n",
    "from mcvine_workflow.sample import loadSampleYml\n",
    "from mcvine_workflow.singlextal import io as sxio, coords_transform, dynrange\n",
    "from mcvine_workflow.singlextal.resolution import use_covmat, use_res_comps"
   ]
  },
  {
   "cell_type": "code",
   "execution_count": 5,
   "metadata": {
    "collapsed": false
   },
   "outputs": [
    {
     "name": "stdout",
     "output_type": "stream",
     "text": [
      "/SNS/users/lj7/simulations/ARCS/resolution-fit-covmat/3-generate-samples-for-fitting\n"
     ]
    }
   ],
   "source": [
    "workdir = '/SNS/users/lj7/simulations/ARCS/resolution-fit-covmat/3-generate-samples-for-fitting'\n",
    "!mkdir -p {workdir}\n",
    "%cd {workdir}"
   ]
  },
  {
   "cell_type": "markdown",
   "metadata": {},
   "source": [
    "# Inputs"
   ]
  },
  {
   "cell_type": "markdown",
   "metadata": {},
   "source": [
    "## Instrument\n",
    "\n",
    "ARCS"
   ]
  },
  {
   "cell_type": "code",
   "execution_count": 6,
   "metadata": {
    "collapsed": true
   },
   "outputs": [],
   "source": [
    "instrument = use_covmat.instrument(\n",
    "    name = 'ARCS',\n",
    "    detsys_radius = \"3.*meter\",\n",
    "    L_m2s = \"13.6*meter\",\n",
    "    L_m2fc = \"11.61*meter\",\n",
    "    offset_sample2beam = \"-0.15*meter\" # offset from sample to saved beam\n",
    "    )\n",
    "pixel = use_covmat.pixel(\n",
    "    radius = \"0.5*inch\",\n",
    "    height = \"meter/128\",\n",
    "    pressure = \"10*atm\",\n",
    "    )"
   ]
  },
  {
   "cell_type": "markdown",
   "metadata": {},
   "source": [
    "## Sample"
   ]
  },
  {
   "cell_type": "code",
   "execution_count": 7,
   "metadata": {
    "collapsed": false
   },
   "outputs": [
    {
     "name": "stdout",
     "output_type": "stream",
     "text": [
      "Writing Si.yml\n"
     ]
    }
   ],
   "source": [
    "%%file Si.yml\n",
    "name: Si\n",
    "chemical_formula: Si2\n",
    "lattice: \n",
    " constants: 5.490700041, 5.490700041, 5.490700041, 90, 90, 90\n",
    " basis_vectors:\n",
    "  - 5.490700041, 0, 0\n",
    "  - 0, 5.490700041, 0\n",
    "  - 0, 0, 5.490700041\n",
    " primitive_basis_vectors:\n",
    "  - 0.0, 2.71526503565, 2.71526503565\n",
    "  - 2.71526503565, 0.0, 2.71526503565\n",
    "  - 2.71526503565, 2.71526503565, 0.0\n",
    "excitations:\n",
    "  - type: deltafunction\n",
    "    hkl: -16/3.,-8/3.,8/3.\n",
    "    E: 40.\n",
    "    dE: 0.5\n",
    "orientation:\n",
    " u: -1, 1, -1\n",
    " v: 2, 1, -1\n",
    "shape: hollowCylinder in_radius=\"5./8*inch\" out_radius=\"1.*inch\" height=\"1.5*inch\"\n",
    "temperature: 100*K"
   ]
  },
  {
   "cell_type": "code",
   "execution_count": 8,
   "metadata": {
    "collapsed": true
   },
   "outputs": [],
   "source": [
    "sample_yml = './Si.yml'"
   ]
  },
  {
   "cell_type": "markdown",
   "metadata": {},
   "source": [
    "## ** Dynamics parameters"
   ]
  },
  {
   "cell_type": "code",
   "execution_count": 19,
   "metadata": {
    "collapsed": true
   },
   "outputs": [],
   "source": [
    "# Ei = 100\n",
    "q = 0\n",
    "# E = 20.  # energy transfer"
   ]
  },
  {
   "cell_type": "code",
   "execution_count": 20,
   "metadata": {
    "collapsed": false
   },
   "outputs": [],
   "source": [
    "xo = sxio.loadXtalOriFromSampleYml('Si.yml')\n",
    "# change psi if needed\n",
    "# xo.psi = np.deg2rad(30.)\n",
    "# print np.rad2deg(xo.psi)"
   ]
  },
  {
   "cell_type": "markdown",
   "metadata": {},
   "source": [
    "## Compute hkl0"
   ]
  },
  {
   "cell_type": "code",
   "execution_count": 11,
   "metadata": {
    "collapsed": false
   },
   "outputs": [
    {
     "name": "stdout",
     "output_type": "stream",
     "text": [
      "beam_1000      beam_125_1e9  beam_30\t  beam_500_1e9\r\n",
      "beam_1000_1e9  beam_250      beam_30_1e9  beam_60\r\n",
      "beam_125       beam_250_1e9  beam_500\t  beam_60_1e9\r\n"
     ]
    }
   ],
   "source": [
    "# Beam simulations by Ricky\n",
    "!ls /SNS/users/p63/ORNL_public_research/MCViNE_Covmat_comparison/mcvine_resolution/beams"
   ]
  },
  {
   "cell_type": "code",
   "execution_count": null,
   "metadata": {
    "collapsed": true
   },
   "outputs": [],
   "source": [
    "Eis = [30, 60, 125, 250, 500, 1000]\n",
    "NEis = len(Eis)"
   ]
  },
  {
   "cell_type": "markdown",
   "metadata": {},
   "source": [
    "# Do One Ei first"
   ]
  },
  {
   "cell_type": "code",
   "execution_count": 14,
   "metadata": {
    "collapsed": true
   },
   "outputs": [],
   "source": [
    "np.random.random()"
   ]
  },
  {
   "cell_type": "code",
   "execution_count": 22,
   "metadata": {
    "collapsed": false
   },
   "outputs": [
    {
     "name": "stdout",
     "output_type": "stream",
     "text": [
      "[ 0.79645617 -0.12447938 -0.4510571  -0.90041401  0.20508299 -0.13451755\n",
      " -0.43967647 -0.36510042 -0.48784603 -0.29954128]\n",
      "[  37.52674867  103.26817695   23.44515591    4.98238344   15.08630041\n",
      "  103.33149288   83.63016973   12.8987237     7.00233949    4.63569268]\n",
      "[-372.15937953  163.60481626  251.96909236  703.87109218 -913.69693183\n",
      "   35.94861461  369.4388513  -361.86319412 -141.19699362  310.82373764]\n",
      "[[-11.94155079  -0.19300258   8.35334387]\n",
      " [-27.34841118   5.92307836  -6.95242962]\n",
      " [ -7.7205586   -2.02583456  -1.46533636]\n",
      " [ -6.03808964   2.85026854  -7.09731339]\n",
      " [ -1.94439204  -5.22066611   7.78212714]\n",
      " [-28.55084298   5.51313513  -6.70719705]\n",
      " [-22.35665595   2.43472139  -5.5609156 ]\n",
      " [ -2.62128316  -5.37257233   1.54502605]\n",
      " [ -1.49889172  -3.8509597   -0.804145  ]\n",
      " [ -3.00430076   0.3149843   -2.55422957]]\n"
     ]
    }
   ],
   "source": [
    "Ei = 1000\n",
    "\n",
    "N_samples = 10\n",
    "theta_min = -5\n",
    "theta_max = 120\n",
    "thetas = np.random.random(N_samples)*(theta_max-theta_min) + theta_min\n",
    "\n",
    "z_min = -1\n",
    "z_max = 1.\n",
    "zs = np.random.random(N_samples)*(z_max-z_min) + z_min\n",
    "\n",
    "E_min = -Ei*.95\n",
    "E_max = Ei*.95\n",
    "Es = np.random.random(N_samples)*(E_max-E_min) + E_min\n",
    "\n",
    "rs = np.ones(N_samples)*3. # radius of the cylinder of the det system\n",
    "print zs\n",
    "print thetas\n",
    "print Es\n",
    "\n",
    "hkl0s = coords_transform.rtzE2hkl(r=rs, theta=np.deg2rad(thetas), z=zs, E=Es, xtalori=xo, Ei=Ei)\n",
    "print hkl0s"
   ]
  },
  {
   "cell_type": "code",
   "execution_count": 24,
   "metadata": {
    "collapsed": false
   },
   "outputs": [],
   "source": [
    "hkl_dir = np.array([0,0,1]) # this could be randomized too\n",
    "hkls = hkl0s+q*hkl_dir"
   ]
  },
  {
   "cell_type": "code",
   "execution_count": 33,
   "metadata": {
    "collapsed": false
   },
   "outputs": [
    {
     "name": "stdout",
     "output_type": "stream",
     "text": [
      "[[ -1.19415508e+01  -1.93002584e-01   8.35334387e+00  -3.72159380e+02]\n",
      " [ -2.73484112e+01   5.92307836e+00  -6.95242962e+00   1.63604816e+02]\n",
      " [ -7.72055860e+00  -2.02583456e+00  -1.46533636e+00   2.51969092e+02]\n",
      " [ -6.03808964e+00   2.85026854e+00  -7.09731339e+00   7.03871092e+02]\n",
      " [ -1.94439204e+00  -5.22066611e+00   7.78212714e+00  -9.13696932e+02]\n",
      " [ -2.85508430e+01   5.51313513e+00  -6.70719705e+00   3.59486146e+01]\n",
      " [ -2.23566560e+01   2.43472139e+00  -5.56091560e+00   3.69438851e+02]\n",
      " [ -2.62128316e+00  -5.37257233e+00   1.54502605e+00  -3.61863194e+02]\n",
      " [ -1.49889172e+00  -3.85095970e+00  -8.04145005e-01  -1.41196994e+02]\n",
      " [ -3.00430076e+00   3.14984299e-01  -2.55422957e+00   3.10823738e+02]]\n"
     ]
    }
   ],
   "source": [
    "# hklE array\n",
    "print np.hstack((hkls, Es[:, np.newaxis]))"
   ]
  },
  {
   "cell_type": "markdown",
   "metadata": {},
   "source": [
    "** we have not randomize psi angles yet. could be done **"
   ]
  },
  {
   "cell_type": "markdown",
   "metadata": {},
   "source": [
    "## ** Other parameters"
   ]
  },
  {
   "cell_type": "code",
   "execution_count": 35,
   "metadata": {
    "collapsed": true
   },
   "outputs": [],
   "source": [
    "# scan\n",
    "class psi_scan:\n",
    "    min = -5\n",
    "    max = 90.\n",
    "    step = 1."
   ]
  },
  {
   "cell_type": "markdown",
   "metadata": {},
   "source": [
    "# Setup simulations"
   ]
  },
  {
   "cell_type": "code",
   "execution_count": 41,
   "metadata": {
    "collapsed": false
   },
   "outputs": [],
   "source": [
    "!rm -rf tmp.use_res_comps/\n",
    "!mkdir -p tmp.use_res_comps/"
   ]
  },
  {
   "cell_type": "code",
   "execution_count": 42,
   "metadata": {
    "collapsed": false
   },
   "outputs": [
    {
     "name": "stdout",
     "output_type": "stream",
     "text": [
      "-372.159379526 [-11.94155079  -0.19300258   8.35334387]\n",
      "Ei=1010.94552405, t0=5.03711447572\n",
      "Computed:\n",
      "* psi=-0.0460465757048 degree\n",
      "* Q=[  2.23096913 -15.15191814  -6.60306351]\n",
      "* hkl2Qmat=[[ -6.59929439e-01   9.34874059e-01   7.77555548e-17]\n",
      " [  6.61055787e-01   4.66640582e-01  -8.09165116e-01]\n",
      " [ -6.61055787e-01  -4.66640582e-01  -8.09165116e-01]]\n",
      "* ki=22.0879917858\n",
      "* vectors ki=[ 22.08799179   0.           0.        ], kf=[ 19.85702265  15.15191814   6.60306351]\n",
      "These two numbers should be very close:\n",
      "  -372.159379526\n",
      "  -372.159379526\n",
      "  Ei=1010.94552405, Ef=1383.10490358\n",
      "* Ef=1383.10490358\n",
      "* pixel positon=[ 2.38497685  1.81985863  0.79307728]\n",
      "* pixel_position=[ 2.38497685  1.81985863  0.79307728]\n",
      "t_m2s=0.000982956131398, t_s2p=0.000190761290625, t_m2p=0.00117371742202\n",
      "163.604816257 [-27.34841118   5.92307836  -6.95242962]\n",
      "Ei=1010.94552405, t0=5.03711447572\n",
      "Computed:\n",
      "* psi=-0.420942517355 degree\n",
      "* Q=[ 26.43090469 -19.73244867   0.83291513]\n",
      "* hkl2Qmat=[[-0.65379832  0.93917205  0.        ]\n",
      " [ 0.66409492  0.46230522 -0.80916512]\n",
      " [-0.66409492 -0.46230522 -0.80916512]]\n",
      "* ki=22.0879917858\n",
      "* vectors ki=[ 22.08799179   0.           0.        ], kf=[ -4.3429129   19.73244867  -0.83291513]\n",
      "These two numbers should be very close:\n",
      "  163.604816257\n",
      "  163.604816257\n",
      "  Ei=1010.94552405, Ef=847.340707793\n",
      "* Ef=847.340707793\n",
      "* pixel positon=[-0.64483662  2.92987811 -0.12367141]\n",
      "* pixel_position=[-0.64483662  2.92987811 -0.12367141]\n",
      "t_m2s=0.000982956131398, t_s2p=0.000235824426269, t_m2p=0.00121878055767\n",
      "251.969092361 [-7.7205586  -2.02583456 -1.46533636]\n",
      "Ei=1010.94552405, t0=5.03711447572\n",
      "Computed:\n",
      "* psi=-0.196598065051 degree\n",
      "* Q=[ 4.70483429 -7.49168953  2.82493372]\n",
      "* hkl2Qmat=[[-0.65747067  0.93660487  0.        ]\n",
      " [ 0.66227966  0.46490197 -0.80916512]\n",
      " [-0.66227966 -0.46490197 -0.80916512]]\n",
      "* ki=22.0879917858\n",
      "* vectors ki=[ 22.08799179   0.           0.        ], kf=[ 17.3831575    7.49168953  -2.82493372]\n",
      "These two numbers should be very close:\n",
      "  251.969092361\n",
      "  251.969092361\n",
      "  Ei=1010.94552405, Ef=758.976431689\n",
      "* Ef=758.976431689\n",
      "* pixel positon=[ 2.75503279  1.1873476  -0.44771987]\n",
      "* pixel_position=[ 2.75503279  1.1873476  -0.44771987]\n",
      "t_m2s=0.000982956131398, t_s2p=0.000251720347511, t_m2p=0.00123467647891\n",
      "703.871092184 [-6.03808964  2.85026854 -7.09731339]\n",
      "Ei=1010.94552405, t0=5.03711447572\n",
      "Computed:\n",
      "* psi=-2.65227442802 degree\n",
      "* Q=[ 10.50409236  -1.48207856   3.43656054]\n",
      "* hkl2Qmat=[[ -6.16736637e-01   9.63915086e-01   7.54129199e-17]\n",
      " [  6.81590894e-01   4.36098658e-01  -8.09165116e-01]\n",
      " [ -6.81590894e-01  -4.36098658e-01  -8.09165116e-01]]\n",
      "* ki=22.0879917858\n",
      "* vectors ki=[ 22.08799179   0.           0.        ], kf=[ 11.58389943   1.48207856  -3.43656054]\n",
      "These two numbers should be very close:\n",
      "  703.871092184\n",
      "  703.871092184\n",
      "  Ei=1010.94552405, Ef=307.074431866\n",
      "* Ef=307.074431866\n",
      "* pixel positon=[ 2.97574329  0.38072545 -0.8828048 ]\n",
      "* pixel_position=[ 2.97574329  0.38072545 -0.8828048 ]\n",
      "t_m2s=0.000982956131398, t_s2p=0.000408000692348, t_m2p=0.00139095682375\n",
      "-913.696931831 [-1.94439204 -5.22066611  7.78212714]\n",
      "Ei=1010.94552405, t0=5.03711447572\n",
      "Computed:\n",
      "* psi=0.287285589584 degree\n",
      "* Q=[-7.2664115  -7.92780073 -2.07264491]\n",
      "* hkl2Qmat=[[-0.6653571   0.93101896  0.        ]\n",
      " [ 0.65832982  0.47047852 -0.80916512]\n",
      " [-0.65832982 -0.47047852 -0.80916512]]\n",
      "* ki=22.0879917858\n",
      "* vectors ki=[ 22.08799179   0.           0.        ], kf=[ 29.35440328   7.92780073   2.07264491]\n",
      "These two numbers should be very close:\n",
      "  -913.696931831\n",
      "  -913.696931831\n",
      "  Ei=1010.94552405, Ef=1924.64245588\n",
      "* Ef=1924.64245588\n",
      "* pixel positon=[ 2.89623481  0.78219176  0.20449628]\n",
      "* pixel_position=[ 2.89623481  0.78219176  0.20449628]\n",
      "t_m2s=0.000982956131398, t_s2p=0.000156704232725, t_m2p=0.00113966036412\n",
      "35.9486146145 [-28.55084298   5.51313513  -6.70719705]\n",
      "Ei=1010.94552405, t0=5.03711447572\n",
      "Computed:\n",
      "* psi=-0.397791061445 degree\n",
      "* Q=[ 26.79050344 -21.15380672   0.96619325]\n",
      "* hkl2Qmat=[[-0.65417775  0.93890779  0.        ]\n",
      " [ 0.66390806  0.46257353 -0.80916512]\n",
      " [-0.66390806 -0.46257353 -0.80916512]]\n",
      "* ki=22.0879917858\n",
      "* vectors ki=[ 22.08799179   0.           0.        ], kf=[ -4.70251166  21.15380672  -0.96619325]\n",
      "These two numbers should be very close:\n",
      "  35.9486146145\n",
      "  35.9486146145\n",
      "  Ei=1010.94552405, Ef=974.996909435\n",
      "* Ef=974.996909435\n",
      "* pixel positon=[-0.65101112  2.92851234 -0.13375885]\n",
      "* pixel_position=[-0.65101112  2.92851234 -0.13375885]\n",
      "t_m2s=0.000982956131398, t_s2p=0.000219876462817, t_m2p=0.00120283259422\n",
      "369.438851298 [-22.35665595   2.43472139  -5.5609156 ]\n",
      "Ei=1010.94552405, t0=5.03711447572\n",
      "Computed:\n",
      "* psi=-0.362254628148 degree\n",
      "* Q=[ 19.94431618 -17.27990172   2.52960731]\n",
      "* hkl2Qmat=[[-0.65475997  0.93850187  0.        ]\n",
      " [ 0.66362104  0.46298521 -0.80916512]\n",
      " [-0.66362104 -0.46298521 -0.80916512]]\n",
      "* ki=22.0879917858\n",
      "* vectors ki=[ 22.08799179   0.           0.        ], kf=[  2.1436756   17.27990172  -2.52960731]\n",
      "These two numbers should be very close:\n",
      "  369.438851298\n",
      "  369.438851298\n",
      "  Ei=1010.94552405, Ef=641.506672752\n",
      "* Ef=641.506672752\n",
      "* pixel positon=[ 0.36933684  2.97717824 -0.43582955]\n",
      "* pixel_position=[ 0.36933684  2.97717824 -0.43582955]\n",
      "t_m2s=0.000982956131398, t_s2p=0.000273642647698, t_m2p=0.0012565987791\n",
      "-361.863194118 [-2.62128316 -5.37257233  1.54502605]\n",
      "Ei=1010.94552405, t0=5.03711447572\n",
      "Computed:\n",
      "* psi=0.155295905247 degree\n",
      "* Q=[-2.82308389 -5.68855743  3.09711693]\n",
      "* hkl2Qmat=[[-0.66321059  0.93254924  0.        ]\n",
      " [ 0.65941189  0.4689607  -0.80916512]\n",
      " [-0.65941189 -0.4689607  -0.80916512]]\n",
      "* ki=22.0879917858\n",
      "* vectors ki=[ 22.08799179   0.           0.        ], kf=[ 24.91107568   5.68855743  -3.09711693]\n",
      "These two numbers should be very close:\n",
      "  -361.863194118\n",
      "  -361.863194118\n",
      "  Ei=1010.94552405, Ef=1372.80871817\n",
      "* Ef=1372.80871817\n",
      "* pixel positon=[ 2.92471324  0.66787157 -0.36362054]\n",
      "* pixel_position=[ 2.92471324  0.66787157 -0.36362054]\n",
      "t_m2s=0.000982956131398, t_s2p=0.000186470882495, t_m2p=0.00116942701389\n",
      "-141.196993625 [-1.49889172 -3.8509597  -0.804145  ]\n",
      "Ei=1010.94552405, t0=5.03711447572\n",
      "Computed:\n",
      "* psi=0.112596384497 degree\n",
      "* Q=[-1.01713124 -2.82586948  3.76674834]\n",
      "* hkl2Qmat=[[-0.66251542  0.93304324  0.        ]\n",
      " [ 0.6597612   0.46846915 -0.80916512]\n",
      " [-0.6597612  -0.46846915 -0.80916512]]\n",
      "* ki=22.0879917858\n",
      "* vectors ki=[ 22.08799179   0.           0.        ], kf=[ 23.10512302   2.82586948  -3.76674834]\n",
      "These two numbers should be very close:\n",
      "  -141.196993625\n",
      "  -141.196993625\n",
      "  Ei=1010.94552405, Ef=1152.14251767\n",
      "* Ef=1152.14251767\n",
      "* pixel positon=[ 2.9778109   0.36420083 -0.48546222]\n",
      "* pixel_position=[ 2.9778109   0.36420083 -0.48546222]\n",
      "t_m2s=0.000982956131398, t_s2p=0.000204695853581, t_m2p=0.00118765198498\n",
      "310.823737639 [-3.00430076  0.3149843  -2.55422957]\n",
      "Ei=1010.94552405, t0=5.03711447572\n",
      "Computed:\n",
      "* psi=-0.80786312537 degree\n",
      "* Q=[ 3.8594525  -1.52120025  1.81191916]\n",
      "* hkl2Qmat=[[ -6.47441193e-01   9.43565723e-01   7.70393088e-17]\n",
      " [  6.67201721e-01   4.57810058e-01  -8.09165116e-01]\n",
      " [ -6.67201721e-01  -4.57810058e-01  -8.09165116e-01]]\n",
      "* ki=22.0879917858\n",
      "* vectors ki=[ 22.08799179   0.           0.        ], kf=[ 18.22853929   1.52120025  -1.81191916]\n",
      "These two numbers should be very close:\n",
      "  310.823737639\n",
      "  310.823737639\n",
      "  Ei=1010.94552405, Ef=700.121786411\n",
      "* Ef=700.121786411\n",
      "* pixel positon=[ 2.989608    0.24948749 -0.29716742]\n",
      "* pixel_position=[ 2.989608    0.24948749 -0.29716742]\n",
      "t_m2s=0.000982956131398, t_s2p=0.000260484924554, t_m2p=0.00124344105595\n"
     ]
    }
   ],
   "source": [
    "outdir = 'tmp.use_res_comps'\n",
    "beam = '/SNS/users/p63/ORNL_public_research/MCViNE_Covmat_comparison/mcvine_resolution/beams/beam_1000_1e9/'\n",
    "for E, hkl in zip(Es, hkls):\n",
    "    print E,hkl\n",
    "    outdir1 = os.path.join(outdir, 'E%s_hkl%s' % (E, '%s,%s,%s' % tuple(hkl)))\n",
    "    use_res_comps.setup(outdir1, sample_yml, beam, E, hkl, hkl_dir, psi_scan, instrument, pixel)"
   ]
  },
  {
   "cell_type": "code",
   "execution_count": 43,
   "metadata": {
    "collapsed": false
   },
   "outputs": [
    {
     "name": "stdout",
     "output_type": "stream",
     "text": [
      "\u001b[0m\u001b[01;34mE-141.196993625_hkl-1.49889172417,-3.85095970255,-0.804145004825\u001b[0m/\r\n",
      "\u001b[01;34mE163.604816257_hkl-27.348411181,5.92307836282,-6.9524296165\u001b[0m/\r\n",
      "\u001b[01;34mE251.969092361_hkl-7.7205586027,-2.02583456007,-1.46533635956\u001b[0m/\r\n",
      "\u001b[01;34mE310.823737639_hkl-3.00430075938,0.314984298655,-2.55422956784\u001b[0m/\r\n",
      "\u001b[01;34mE35.9486146145_hkl-28.5508429833,5.51313513282,-6.70719704811\u001b[0m/\r\n",
      "\u001b[01;34mE-361.863194118_hkl-2.62128315547,-5.37257232899,1.54502605159\u001b[0m/\r\n",
      "\u001b[01;34mE369.438851298_hkl-22.3566559529,2.43472138551,-5.56091560488\u001b[0m/\r\n",
      "\u001b[01;34mE-372.159379526_hkl-11.9415507873,-0.193002583752,8.35334387063\u001b[0m/\r\n",
      "\u001b[01;34mE703.871092184_hkl-6.03808964002,2.85026854386,-7.09731339035\u001b[0m/\r\n",
      "\u001b[01;34mE-913.696931831_hkl-1.94439203643,-5.22066611166,7.78212714387\u001b[0m/\r\n"
     ]
    }
   ],
   "source": [
    "ls tmp.use_res_comps/"
   ]
  },
  {
   "cell_type": "code",
   "execution_count": null,
   "metadata": {
    "collapsed": true
   },
   "outputs": [],
   "source": []
  }
 ],
 "metadata": {
  "kernelspec": {
   "display_name": "mcvine-unstable at jnrk-analysis",
   "language": "python",
   "name": "jnrk-analysis-mcvine-unstable"
  },
  "language_info": {
   "codemirror_mode": {
    "name": "ipython",
    "version": 2
   },
   "file_extension": ".py",
   "mimetype": "text/x-python",
   "name": "python",
   "nbconvert_exporter": "python",
   "pygments_lexer": "ipython2",
   "version": "2.7.12"
  }
 },
 "nbformat": 4,
 "nbformat_minor": 0
}
