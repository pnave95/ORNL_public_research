{
 "cells": [
  {
   "cell_type": "markdown",
   "metadata": {},
   "source": [
    "Ricky found that for some points the disagreement is very large between\n",
    "the covmat calculation and the mcvine simulation.\n",
    "Here we want to see why.\n",
    "\n",
    "Check some simple cases where we can estimate the correlation"
   ]
  },
  {
   "cell_type": "code",
   "execution_count": 1,
   "metadata": {
    "collapsed": false
   },
   "outputs": [
    {
     "name": "stdout",
     "output_type": "stream",
     "text": [
      "/SNS/users/p63/ORNL_public_research/MCViNE_Covmat_comparison/notebooks/6-check-simple-cases-1\n"
     ]
    }
   ],
   "source": [
    "workdir = '/SNS/users/p63/ORNL_public_research/MCViNE_Covmat_comparison/notebooks/6-check-simple-cases-1/'\n",
    "!mkdir -p {workdir}\n",
    "%cd {workdir}"
   ]
  },
  {
   "cell_type": "code",
   "execution_count": 2,
   "metadata": {
    "collapsed": false
   },
   "outputs": [
    {
     "name": "stdout",
     "output_type": "stream",
     "text": [
      "/SNS/software/miniconda2/envs/mcvine-unstable/bin/mcvine\r\n"
     ]
    }
   ],
   "source": [
    "!which mcvine"
   ]
  },
  {
   "cell_type": "markdown",
   "metadata": {},
   "source": [
    "# Tools"
   ]
  },
  {
   "cell_type": "code",
   "execution_count": 3,
   "metadata": {
    "collapsed": true
   },
   "outputs": [],
   "source": [
    "import mcvine.cli\n",
    "from mcvine_workflow.singlextal.resolution import use_covmat, use_res_comps\n",
    "import numpy as np\n",
    "import histogram as H, histogram.hdf as hh"
   ]
  },
  {
   "cell_type": "code",
   "execution_count": 4,
   "metadata": {
    "collapsed": true
   },
   "outputs": [],
   "source": [
    "from matplotlib import pyplot as plt, patches as mp\n",
    "%matplotlib inline"
   ]
  },
  {
   "cell_type": "code",
   "execution_count": 5,
   "metadata": {
    "collapsed": false
   },
   "outputs": [
    {
     "data": {
      "image/png": "[encoded data removed]",
      "text/plain": [
       "<matplotlib.figure.Figure at 0x7f0c8500fb50>"
      ]
     },
     "metadata": {},
     "output_type": "display_data"
    }
   ],
   "source": [
    "fig, ax = plt.subplots(figsize=(12.5, 9.5), dpi=70)\n",
    "# ax.plot([-10, 2], [0,0], 'k')\n",
    "\n",
    "origin = mp.Circle((0,0), 0.05, fill=True, color='k')\n",
    "ax.add_patch(origin)\n",
    "\n",
    "ki = mp.Arrow(-7.8,0, 7.8,0, width=0.3)\n",
    "ax.add_patch(ki)\n",
    "ax.text(-4,-.5, r'${\\bf k}_i$', fontsize=18)\n",
    "\n",
    "kf = mp.Arrow(-7.8,0, 7.8,5, width=0.3)\n",
    "ax.add_patch(kf)\n",
    "ax.text(-4,2.8, r'${\\bf k}_f$', fontsize=18)\n",
    "\n",
    "Q = mp.Arrow(0,5, 0,-5, width=0.1, color='k')\n",
    "ax.add_patch(Q)\n",
    "ax.text(0,2.2, r'${\\bf Q}$', fontsize=18)\n",
    "\n",
    "ez = mp.Arrow(-10,6, 1,0, width=0.1, color='k')\n",
    "ax.add_patch(ez)\n",
    "ax.text(-9,5.5, r'${\\bf z}$', fontsize=18)\n",
    "\n",
    "ex = mp.Arrow(-10,6, 0,1, width=0.1, color='k')\n",
    "ax.add_patch(ex)\n",
    "ax.text(-9.9,6.8, r'${\\bf x}$', fontsize=18)\n",
    "\n",
    "ax.set_xlim([-10.5, 2])\n",
    "ax.set_ylim([-2, 7.5])\n",
    "ax.set_axis_off()"
   ]
  },
  {
   "cell_type": "markdown",
   "metadata": {},
   "source": [
    "# Sample"
   ]
  },
  {
   "cell_type": "markdown",
   "metadata": {},
   "source": [
    "u 001, v 100 means hkl=xyz, where z is along beam, y is vertical up."
   ]
  },
  {
   "cell_type": "code",
   "execution_count": 6,
   "metadata": {
    "collapsed": false
   },
   "outputs": [
    {
     "name": "stdout",
     "output_type": "stream",
     "text": [
      "Writing Si.yml\n"
     ]
    }
   ],
   "source": [
    "%%file Si.yml\n",
    "name: Si\n",
    "chemical_formula: Si2\n",
    "lattice: \n",
    " constants: 1, 1, 1, 90, 90, 90\n",
    " basis_vectors:\n",
    "  - 1, 0, 0\n",
    "  - 0, 1, 0\n",
    "  - 0, 0, 1\n",
    "excitations:\n",
    " - type: DGSresolution\n",
    "orientation:\n",
    " u: 0, 0, 1\n",
    " v: 1, 0, 0\n",
    "shape: block width=\"2*inch\" height=\"4.*inch\" thickness=\"1*mm\"\n",
    "temperature: 100*K"
   ]
  },
  {
   "cell_type": "code",
   "execution_count": 7,
   "metadata": {
    "collapsed": true
   },
   "outputs": [],
   "source": [
    "sampleyml = \"Si.yml\""
   ]
  },
  {
   "cell_type": "markdown",
   "metadata": {},
   "source": [
    "# Instrument"
   ]
  },
  {
   "cell_type": "code",
   "execution_count": 8,
   "metadata": {
    "collapsed": true
   },
   "outputs": [],
   "source": [
    "instrument = use_covmat.instrument(\n",
    "    name = 'ARCS',\n",
    "    detsys_radius = \"3.*meter\",\n",
    "    L_m2s = \"13.6*meter\",\n",
    "    L_m2fc = \"11.61*meter\",\n",
    "    offset_sample2beam = \"-0.15*meter\" # offset from sample to saved beam\n",
    "    )\n",
    "pixel = use_covmat.pixel(\n",
    "    radius = \"0.5*inch\",\n",
    "    height = \"meter/128\",\n",
    "    pressure = \"10*atm\",\n",
    "    )"
   ]
  },
  {
   "cell_type": "markdown",
   "metadata": {},
   "source": [
    "# Experiment"
   ]
  },
  {
   "cell_type": "code",
   "execution_count": 9,
   "metadata": {
    "collapsed": false
   },
   "outputs": [
    {
     "name": "stdout",
     "output_type": "stream",
     "text": [
      "ki= [ 0.          0.          7.79789939]\n",
      "Q= [-5  0  0]\n",
      "kf= [ 5.          0.          7.79789939]\n",
      "kf length= 9.26321947109\n",
      "E= -51.8030461602\n"
     ]
    }
   ],
   "source": [
    "from mcni.utils import conversion as Conv\n",
    "\n",
    "Ei = 126\n",
    "ki = Conv.e2k(Ei)\n",
    "ki_vec = np.array([0,0,ki])\n",
    "print \"ki=\", ki_vec\n",
    "\n",
    "Q=np.array([-5,0,0])\n",
    "print \"Q=\", Q\n",
    "kf_vec = ki_vec-Q\n",
    "print \"kf=\", kf_vec\n",
    "\n",
    "kf = np.linalg.norm(kf_vec)\n",
    "print 'kf length=',kf\n",
    "Ef = Conv.k2e(kf)\n",
    "E = Ei-Ef\n",
    "print 'E=',E"
   ]
  },
  {
   "cell_type": "code",
   "execution_count": 10,
   "metadata": {
    "collapsed": true
   },
   "outputs": [],
   "source": [
    "class dynamics:\n",
    "    hkl_dir = np.array([1.,0.,0.])\n",
    "    dq = 0\n",
    "dynamics.hkl0 = Q/2/np.pi\n",
    "dynamics.E = E\n",
    "class scan:\n",
    "    min, max, step = -5, 90., 0.5"
   ]
  },
  {
   "cell_type": "code",
   "execution_count": 11,
   "metadata": {
    "collapsed": false
   },
   "outputs": [],
   "source": [
    "from mcni.utils import conversion as Conv"
   ]
  },
  {
   "cell_type": "code",
   "execution_count": 12,
   "metadata": {
    "collapsed": false
   },
   "outputs": [
    {
     "data": {
      "text/plain": [
       "(7.7978993946786597, 9.2632194710872451)"
      ]
     },
     "execution_count": 12,
     "metadata": {},
     "output_type": "execute_result"
    }
   ],
   "source": [
    "Conv.e2k(Ei), Conv.e2k(Ei-dynamics.E)"
   ]
  },
  {
   "cell_type": "markdown",
   "metadata": {},
   "source": [
    "# Use Cov Mat"
   ]
  },
  {
   "cell_type": "code",
   "execution_count": 13,
   "metadata": {
    "collapsed": false
   },
   "outputs": [
    {
     "name": "stdout",
     "output_type": "stream",
     "text": [
      "<module 'mcvine_workflow.singlextal.resolution.use_covmat' from '/SNS/software/miniconda2/envs/mcvine-unstable/share/mcvine/workflow/mcvine_workflow/singlextal/resolution/use_covmat.pyc'>\n"
     ]
    }
   ],
   "source": [
    "print use_covmat"
   ]
  },
  {
   "cell_type": "code",
   "execution_count": 14,
   "metadata": {
    "collapsed": false
   },
   "outputs": [
    {
     "name": "stderr",
     "output_type": "stream",
     "text": [
      "/SNS/software/miniconda2/envs/mcvine-unstable/share/mcvine/workflow/mcvine_workflow/singlextal/solve_psi.py:55: UserWarning: Traceback (most recent call last):\n",
      "  File \"/SNS/software/miniconda2/envs/mcvine-unstable/share/mcvine/workflow/mcvine_workflow/singlextal/solve_psi.py\", line 52, in solve\n",
      "    results.append(solver(res, min, max))\n",
      "  File \"/SNS/software/miniconda2/envs/mcvine-unstable/lib/python2.7/site-packages/scipy/optimize/zeros.py\", line 442, in brentq\n",
      "    r = _zeros._brentq(f,a,b,xtol,rtol,maxiter,args,full_output,disp)\n",
      "ValueError: f(a) and f(b) must have different signs\n",
      "\n",
      "  warnings.warn(tb.format_exc())\n"
     ]
    },
    {
     "name": "stdout",
     "output_type": "stream",
     "text": [
      "psi=6.75090167372, Q=[ 0.70531815 -5.95839964  0.        ]\n",
      "hkl2Q=array([[-0.73860744,  6.23962151,  0.        ],\n",
      "       [ 0.        ,  0.        ,  6.28318531],\n",
      "       [ 6.23962151,  0.73860744,  0.        ]])\n",
      "(Q = hkl dot hkl2Q)\n",
      "6.0\n",
      "7.79789939468\n",
      "[ 7.09258124  5.95839964  0.        ]\n",
      "ti= 2364.69322632\n",
      "tf= 514.374601753\n",
      "R= 3.0\n",
      "Q= [ 0.70531815 -5.95839964  0.        ]\n",
      "eeta= -1.45297086511\n"
     ]
    },
    {
     "data": {
      "image/png": "[encoded data removed]",
      "text/plain": [
       "<matplotlib.figure.Figure at 0x7f0c7c20c350>"
      ]
     },
     "metadata": {},
     "output_type": "display_data"
    },
    {
     "name": "stdout",
     "output_type": "stream",
     "text": [
      "CPU times: user 495 ms, sys: 760 ms, total: 1.26 s\n",
      "Wall time: 2.39 s\n"
     ]
    }
   ],
   "source": [
    "%%time\n",
    "tofwidths = use_covmat.tofwidths(P=10, M=8)\n",
    "beamdivs = use_covmat.beamdivs(theta=0.01, phi=0.01)\n",
    "samplethickness = 0.001\n",
    "ellipsoid_trace, mR, lambdas = use_covmat.compute(\n",
    "# cm_res = use_covmat.compute(\n",
    "    sampleyml, Ei, dynamics, scan,\n",
    "    instrument, pixel,\n",
    "    tofwidths, beamdivs, samplethickness,\n",
    "    plot=True)\n",
    "# ellipsoid_trace = cm_res['u']"
   ]
  },
  {
   "cell_type": "markdown",
   "metadata": {},
   "source": [
    "# Use Res Comps"
   ]
  },
  {
   "cell_type": "code",
   "execution_count": 15,
   "metadata": {
    "collapsed": false
   },
   "outputs": [
    {
     "name": "stdout",
     "output_type": "stream",
     "text": [
      "240459\r\n"
     ]
    }
   ],
   "source": [
    "!mcvine-neutron-storage-count-neutrons /SNS/users/p63/ORNL_public_research/MCViNE_Covmat_comparison/mcvine_resolution/beams/beam_125_1e9/out/neutrons"
   ]
  },
  {
   "cell_type": "code",
   "execution_count": 16,
   "metadata": {
    "collapsed": true
   },
   "outputs": [],
   "source": [
    "rm -rf out.res_comps_tmp/"
   ]
  },
  {
   "cell_type": "code",
   "execution_count": 17,
   "metadata": {
    "collapsed": false
   },
   "outputs": [
    {
     "name": "stdout",
     "output_type": "stream",
     "text": [
      "Ei=126.211753632, t0=16.0728240277\n",
      "Computed:\n",
      "* psi=6.74520975278 degree\n",
      "* Q=[ 0.70472623 -5.95846968  0.        ]\n",
      "* hkl2Qmat=[[-0.73798758  6.23969486  0.        ]\n",
      " [ 0.          0.          6.28318531]\n",
      " [ 6.23969486  0.73798758  0.        ]]\n",
      "* ki=7.80444915794\n",
      "* vectors ki=[ 7.80444916  0.          0.        ], kf=[ 7.09972293  5.95846968  0.        ]\n",
      "These two numbers should be very close:\n",
      "  -51.8030461602\n",
      "  -51.8030461602\n",
      "  Ei=126.211753632, Ef=178.014799792\n",
      "* Ef=178.014799792\n",
      "* pixel positon=[ 2.29795884  1.92857076  0.        ]\n",
      "* pixel_position=[ 2.29795884  1.92857076  0.        ]\n",
      "t_m2s=0.00278375914959, t_s2p=0.000514068579162, t_m2p=0.00329782772875\n"
     ]
    }
   ],
   "source": [
    "beam = \"/SNS/users/p63/ORNL_public_research/MCViNE_Covmat_comparison/mcvine_resolution/beams/beam_125_1e9\"\n",
    "psi_axis = scan\n",
    "use_res_comps.setup(\n",
    "    'out.res_comps_tmp', sampleyml, beam, dynamics.E, dynamics.hkl0, dynamics.hkl_dir,\n",
    "    psi_axis, instrument, pixel)"
   ]
  },
  {
   "cell_type": "code",
   "execution_count": 18,
   "metadata": {
    "collapsed": false
   },
   "outputs": [
    {
     "name": "stdout",
     "output_type": "stream",
     "text": [
      "run.py  \u001b[0m\u001b[01;34msample\u001b[0m/\r\n"
     ]
    }
   ],
   "source": [
    "ls out.res_comps_tmp/"
   ]
  },
  {
   "cell_type": "code",
   "execution_count": 19,
   "metadata": {
    "collapsed": false
   },
   "outputs": [
    {
     "name": "stdout",
     "output_type": "stream",
     "text": [
      "#!/usr/bin/env python\r\n",
      "import mcvine.cli\r\n",
      "from numpy import array\r\n",
      "from mcvine_workflow.singlextal.resolution import use_res_comps as urc\r\n",
      "beam_neutrons_path = '/SNS/users/p63/ORNL_public_research/MCViNE_Covmat_comparison/mcvine_resolution/beams/beam_125_1e9/out/neutrons'\r\n",
      "instrument = urc.instrument('ARCS', '3.*meter', '13.6*meter', '-0.15*meter')\r\n",
      "samplexmlpath = '/SNS/users/p63/ORNL_public_research/MCViNE_Covmat_comparison/notebooks/6-check-simple-cases-1/out.res_comps_tmp/sample/sampleassembly.xml'\r\n",
      "psi = 0.11772611892360563\r\n",
      "hkl2Q = array([[-0.73798758,  6.23969486,  0.        ],\r\n",
      "       [ 0.        ,  0.        ,  6.28318531],\r\n",
      "       [ 6.23969486,  0.73798758,  0.        ]])\r\n",
      "pp = array([ 2.29795884,  1.92857076,  0.        ])\r\n",
      "pixel = urc.pixel('0.5*inch', 'meter/128', '10*atm', position=(pp[1], pp[2], pp[0]))\r\n",
      "t_m2p = 0.0032978277287488969\r\n",
      "Q = array([ 0.70472623, -5.95846968,  0.        ])\r\n",
      "E = -51.80304616018887\r\n",
      "hkl_projection = array([ 1.,  0.,  0.])\r\n",
      "urc.run(\r\n",
      "    beam_neutrons_path, instrument, samplexmlpath, psi, hkl2Q, pixel, t_m2p,\r\n",
      "    Q, E, hkl_projection, Nbuffer=100000)\r\n"
     ]
    }
   ],
   "source": [
    "cat out.res_comps_tmp/run.py"
   ]
  },
  {
   "cell_type": "code",
   "execution_count": 20,
   "metadata": {
    "collapsed": false
   },
   "outputs": [
    {
     "name": "stdout",
     "output_type": "stream",
     "text": [
      "/SNS/users/p63/ORNL_public_research/MCViNE_Covmat_comparison/notebooks/6-check-simple-cases-1/out.res_comps_tmp\n",
      "/SNS/software/miniconda2/envs/mcvine-unstable/lib/python2.7/site-packages/mcni/SimulationContext.py:39: UserWarning: output directory was not set\n",
      "  warnings.warn(\"output directory was not set\")\n",
      "/SNS/users/p63/ORNL_public_research/MCViNE_Covmat_comparison/notebooks/6-check-simple-cases-1\n",
      "CPU times: user 554 ms, sys: 181 ms, total: 735 ms\n",
      "Wall time: 30.2 s\n"
     ]
    }
   ],
   "source": [
    "%%time\n",
    "%cd {workdir}/out.res_comps_tmp/\n",
    "!python run.py >log.run\n",
    "%cd {workdir}"
   ]
  },
  {
   "cell_type": "code",
   "execution_count": 21,
   "metadata": {
    "collapsed": false
   },
   "outputs": [
    {
     "name": "stdout",
     "output_type": "stream",
     "text": [
      "dEs.npy  dhkls.npy  dxs.npy  log.run  probs.npy  res.h5  run.py  \u001b[0m\u001b[01;34msample\u001b[0m/\r\n"
     ]
    }
   ],
   "source": [
    "ls out.res_comps_tmp/"
   ]
  },
  {
   "cell_type": "code",
   "execution_count": 22,
   "metadata": {
    "collapsed": false
   },
   "outputs": [
    {
     "name": "stderr",
     "output_type": "stream",
     "text": [
      "/SNS/software/miniconda2/envs/mcvine-unstable/lib/python2.7/site-packages/histogram/hdf/Loader.py:129: FutureWarning: elementwise comparison failed; returning scalar instead, but in the future will perform elementwise comparison\n",
      "  if 'storage' in list(dataGroup): # this uses the 'storage' convention\n"
     ]
    }
   ],
   "source": [
    "res = hh.load('out.res_comps_tmp/res.h5')"
   ]
  },
  {
   "cell_type": "code",
   "execution_count": 23,
   "metadata": {
    "collapsed": false
   },
   "outputs": [],
   "source": [
    "q = res.x\n",
    "E = res.E\n",
    "dE = E[1]-E[0]\n",
    "dq = q[1]-q[0]\n",
    "Eg, qg = np.mgrid[slice(E[0], E[-1]+dE/2, E[1]-E[0]), slice(q[0], q[-1]+dq/2, q[1]-q[0])]"
   ]
  },
  {
   "cell_type": "code",
   "execution_count": 24,
   "metadata": {
    "collapsed": false
   },
   "outputs": [
    {
     "data": {
      "text/plain": [
       "<matplotlib.colorbar.Colorbar at 0x7f0cdd32ced0>"
      ]
     },
     "execution_count": 24,
     "metadata": {},
     "output_type": "execute_result"
    },
    {
     "data": {
      "image/png": "[encoded data removed]",
      "text/plain": [
       "<matplotlib.figure.Figure at 0x7f0cdd443e90>"
      ]
     },
     "metadata": {},
     "output_type": "display_data"
    }
   ],
   "source": [
    "# plt.figure(figsize=(4,6))\n",
    "plt.pcolormesh(qg, Eg, res.I.T, cmap='viridis')\n",
    "plt.clim(0, 10)\n",
    "plt.xlim(-0.4,0.2)\n",
    "plt.ylim(-10,7)\n",
    "plt.colorbar()\n",
    "# plt.plot(u[:, 0], u[:, 1], '.')"
   ]
  },
  {
   "cell_type": "markdown",
   "metadata": {},
   "source": [
    "## Get mcvine-simulated data"
   ]
  },
  {
   "cell_type": "code",
   "execution_count": 25,
   "metadata": {
    "collapsed": true
   },
   "outputs": [],
   "source": [
    "dhkls = np.load('out.res_comps_tmp/dhkls.npy')\n",
    "dEs = np.load('out.res_comps_tmp/dEs.npy')\n",
    "probs = np.load('out.res_comps_tmp/probs.npy')"
   ]
  },
  {
   "cell_type": "code",
   "execution_count": 26,
   "metadata": {
    "collapsed": false
   },
   "outputs": [],
   "source": [
    "dhs,dks,dls = dhkls.T"
   ]
  },
  {
   "cell_type": "markdown",
   "metadata": {},
   "source": [
    "## get slice of resolution "
   ]
  },
  {
   "cell_type": "code",
   "execution_count": 27,
   "metadata": {
    "collapsed": false
   },
   "outputs": [],
   "source": [
    "mask=(dls<0.02)*(dls>-0.02)*(dks<0.02)*(dks>-0.02)\n",
    "\n",
    "hist, qedges, Eedges = np.histogram2d(\n",
    "    x=dhs[mask], y=dEs[mask], bins=(np.arange(-0.2, 0.2, 0.002), np.arange(-15,8,0.1)), weights=probs[mask])\n",
    "\n",
    "qaxis = H.axis('q', boundaries=qedges)\n",
    "Eaxis = H.axis('E', boundaries=Eedges)\n",
    "IqE = H.histogram('IqE', (qaxis, Eaxis), data=hist)"
   ]
  },
  {
   "cell_type": "code",
   "execution_count": 28,
   "metadata": {
    "collapsed": false
   },
   "outputs": [
    {
     "name": "stdout",
     "output_type": "stream",
     "text": [
      "plot z in (0.0, 14.9516122388)\n"
     ]
    },
    {
     "data": {
      "image/png": "[encoded data removed]",
      "text/plain": [
       "<matplotlib.figure.Figure at 0x7f0c7c1e5210>"
      ]
     },
     "metadata": {},
     "output_type": "display_data"
    },
    {
     "data": {
      "image/png": "[encoded data removed]",
      "text/plain": [
       "<matplotlib.figure.Figure at 0x7f0c7c167810>"
      ]
     },
     "metadata": {},
     "output_type": "display_data"
    }
   ],
   "source": [
    "H.plot(IqE)"
   ]
  },
  {
   "cell_type": "code",
   "execution_count": 29,
   "metadata": {
    "collapsed": false
   },
   "outputs": [
    {
     "data": {
      "text/plain": [
       "[<matplotlib.lines.Line2D at 0x7f0cdc66f550>]"
      ]
     },
     "execution_count": 29,
     "metadata": {},
     "output_type": "execute_result"
    },
    {
     "data": {
      "image/png": "[encoded data removed]",
      "text/plain": [
       "<matplotlib.figure.Figure at 0x7f0cdc66f610>"
      ]
     },
     "metadata": {},
     "output_type": "display_data"
    }
   ],
   "source": [
    "qgrid, Egrid = np.mgrid[\n",
    "    IqE.q[0] : IqE.q[-1]+1e-10 : IqE.q[1]-IqE.q[0],\n",
    "    IqE.E[0] : IqE.E[-1]+1e-10 : IqE.E[1]-IqE.E[0]\n",
    "]\n",
    "plt.pcolormesh(qgrid, Egrid, IqE.I)\n",
    "plt.clim(0, 1e-2)\n",
    "plt.plot(ellipsoid_trace[:,0], ellipsoid_trace[:,1])"
   ]
  },
  {
   "cell_type": "code",
   "execution_count": null,
   "metadata": {
    "collapsed": true
   },
   "outputs": [],
   "source": []
  },
  {
   "cell_type": "markdown",
   "metadata": {},
   "source": [
    "# Debugging - skip this"
   ]
  },
  {
   "cell_type": "code",
   "execution_count": 65,
   "metadata": {
    "collapsed": false
   },
   "outputs": [],
   "source": [
    "!cp ../4-explore_bad_point-slicing-point2/use_covmat.py .\n",
    "!cp ../4-explore_bad_point-slicing-point2/solve_psi.py ."
   ]
  },
  {
   "cell_type": "code",
   "execution_count": 117,
   "metadata": {
    "collapsed": false
   },
   "outputs": [
    {
     "name": "stdout",
     "output_type": "stream",
     "text": [
      "340,342d339\r\n",
      "<     print \"***dx2dhkl=%s\", dx2dhkl\r\n",
      "<     print \"***hkl2Q_mat=%s\", hkl2Q_mat\r\n",
      "<     print \"***dx2dQ=%s\", dx2dQ\r\n",
      "367c364\r\n",
      "<     print \"***N=\", N\r\n",
      "---\r\n",
      ">     # print N\r\n"
     ]
    }
   ],
   "source": [
    "!diff use_covmat.py ../4-explore_bad_point-slicing-point2/use_covmat.py"
   ]
  },
  {
   "cell_type": "code",
   "execution_count": 118,
   "metadata": {
    "collapsed": false
   },
   "outputs": [
    {
     "data": {
      "text/plain": [
       "<module 'use_covmat' from 'use_covmat.py'>"
      ]
     },
     "execution_count": 118,
     "metadata": {},
     "output_type": "execute_result"
    }
   ],
   "source": [
    "import use_covmat\n",
    "reload(use_covmat)"
   ]
  },
  {
   "cell_type": "markdown",
   "metadata": {
    "collapsed": true
   },
   "source": [
    "# Plot along 3 directions"
   ]
  },
  {
   "cell_type": "code",
   "execution_count": 30,
   "metadata": {
    "collapsed": false
   },
   "outputs": [
    {
     "name": "stdout",
     "output_type": "stream",
     "text": [
      "psi=6.75090167372, Q=[ 0.70531815 -5.95839964  0.        ]\n",
      "hkl2Q=array([[-0.73860744,  6.23962151,  0.        ],\n",
      "       [ 0.        ,  0.        ,  6.28318531],\n",
      "       [ 6.23962151,  0.73860744,  0.        ]])\n",
      "(Q = hkl dot hkl2Q)\n",
      "6.0\n",
      "7.79789939468\n",
      "[ 7.09258124  5.95839964  0.        ]\n",
      "ti= 2364.69322632\n",
      "tf= 514.374601753\n",
      "R= 3.0\n",
      "Q= [ 0.70531815 -5.95839964  0.        ]\n",
      "eeta= -1.45297086511\n",
      "psi=6.75090167372, Q=[ 0.70531815 -5.95839964  0.        ]\n",
      "hkl2Q=array([[-0.73860744,  6.23962151,  0.        ],\n",
      "       [ 0.        ,  0.        ,  6.28318531],\n",
      "       [ 6.23962151,  0.73860744,  0.        ]])\n",
      "(Q = hkl dot hkl2Q)\n",
      "6.0\n",
      "7.79789939468\n",
      "[ 7.09258124  5.95839964  0.        ]\n",
      "ti= 2364.69322632\n",
      "tf= 514.374601753\n",
      "R= 3.0\n",
      "Q= [ 0.70531815 -5.95839964  0.        ]\n",
      "eeta= -1.45297086511\n",
      "psi=6.75090167372, Q=[ 0.70531815 -5.95839964  0.        ]\n",
      "hkl2Q=array([[-0.73860744,  6.23962151,  0.        ],\n",
      "       [ 0.        ,  0.        ,  6.28318531],\n",
      "       [ 6.23962151,  0.73860744,  0.        ]])\n",
      "(Q = hkl dot hkl2Q)\n",
      "6.0\n",
      "7.79789939468\n",
      "[ 7.09258124  5.95839964  0.        ]\n",
      "ti= 2364.69322632\n",
      "tf= 514.374601753\n",
      "R= 3.0\n",
      "Q= [ 0.70531815 -5.95839964  0.        ]\n",
      "eeta= -1.45297086511\n",
      "CPU times: user 265 ms, sys: 538 ms, total: 803 ms\n",
      "Wall time: 221 ms\n"
     ]
    }
   ],
   "source": [
    "%%time\n",
    "\"\"\"\n",
    "tofwidths = use_covmat.tofwidths(P=10, M=2)\n",
    "beamdivs = use_covmat.beamdivs(theta=0.05, phi=0.05)\n",
    "samplethickness = 0.0001\n",
    "instrument = use_covmat.instrument(\n",
    "    name = 'ARCS',\n",
    "    detsys_radius = \"3.*meter\",\n",
    "    L_m2s = \"11.7*meter\",\n",
    "    L_m2fc = \"11.61*meter\",\n",
    "    offset_sample2beam = \"-0.15*meter\" # offset from sample to saved beam\n",
    "    )\n",
    "pixel = use_covmat.pixel(\n",
    "    radius = \"0.5*inch\",\n",
    "    height = \"meter/128\",\n",
    "    pressure = \"10*atm\",\n",
    "    )\n",
    "\"\"\"\n",
    "unit_vectors = [[1,0,0], [0,1,0], [0,0,1]]\n",
    "axes = 'hkl'\n",
    "\n",
    "traces = []\n",
    "IqEs = []\n",
    "for axis_index, uv in enumerate(unit_vectors):\n",
    "    dynamics.hkl_dir = np.array(uv)\n",
    "    ellipsoid_trace, mR, lambdas = use_covmat.compute(\n",
    "    # cm_res = use_covmat.compute(\n",
    "        sampleyml, Ei, dynamics, scan,\n",
    "        instrument, pixel,\n",
    "        tofwidths, beamdivs, samplethickness,\n",
    "        plot=False)\n",
    "    # ellipsoid_trace = cm_res['u']\n",
    "    traces.append(ellipsoid_trace)\n",
    "    \n",
    "    mask = True\n",
    "    for axis_index2, axis in enumerate(axes):\n",
    "        if axis_index2==axis_index: continue # skip the axis of interest\n",
    "        # print \"d%ss<0.02\"%axis, \"d%ss>-0.02\"%axis\n",
    "        mask *= eval(\"d%ss<0.01\"%axis)*eval(\"d%ss>-0.01\"%axis)\n",
    "        continue\n",
    "    # print mask.shape, mask.sum(), mask.dtype\n",
    "    dqs = eval(\"d%ss\" % axes[axis_index])\n",
    "    hist, qedges, Eedges = np.histogram2d(\n",
    "        x=dqs[mask], y=dEs[mask], bins=(np.arange(-0.2, 0.2, 0.002), np.arange(-15,8,0.1)), weights=probs[mask])\n",
    "    # hist, qedges, Eedges = np.histogram2d(\n",
    "    #    x=dqs, y=dEs, bins=(np.arange(-0.2, 0.2, 0.002), np.arange(-15,8,0.1)), weights=probs)\n",
    "    qaxis = H.axis('q', boundaries=qedges)\n",
    "    Eaxis = H.axis('E', boundaries=Eedges)\n",
    "    # print hist.sum()\n",
    "    IqE = H.histogram('IqE', (qaxis, Eaxis), data=hist)\n",
    "    IqEs.append(IqE)\n",
    "    continue"
   ]
  },
  {
   "cell_type": "code",
   "execution_count": 31,
   "metadata": {
    "collapsed": false
   },
   "outputs": [
    {
     "data": {
      "image/png": "[encoded data removed]",
      "text/plain": [
       "<matplotlib.figure.Figure at 0x7f0cdc67e950>"
      ]
     },
     "metadata": {},
     "output_type": "display_data"
    }
   ],
   "source": [
    "plt.figure(figsize=(15, 5))\n",
    "for i, (trace, IqE) in enumerate(zip(traces, IqEs)):\n",
    "    plt.subplot(1, 3, i+1)\n",
    "    qgrid, Egrid = np.mgrid[\n",
    "        IqE.q[0] : IqE.q[-1]+1e-10 : IqE.q[1]-IqE.q[0],\n",
    "        IqE.E[0] : IqE.E[-1]+1e-10 : IqE.E[1]-IqE.E[0]\n",
    "    ]\n",
    "    plt.pcolormesh(qgrid, Egrid, IqE.I)\n",
    "    #plt.clim(0, 1e-1)\n",
    "    plt.colorbar()\n",
    "    plt.plot(trace[:,0], trace[:,1])\n",
    "    plt.xlim(-0.07, 0.05)\n",
    "    plt.ylim(-15, 7)"
   ]
  },
  {
   "cell_type": "code",
   "execution_count": null,
   "metadata": {
    "collapsed": true
   },
   "outputs": [],
   "source": []
  },
  {
   "cell_type": "markdown",
   "metadata": {},
   "source": [
    "## Rouch estimate\n",
    "Only concern with main correlation resulting from spread of incident energy\n",
    "\n",
    "$\\because$\n",
    "Q = ki - kf\n",
    "\n",
    "$\\therefore$\n",
    "dQ = dki\n",
    "\n",
    "$\\because$\n",
    "E = Ei - Ef\n",
    "\n",
    "$\\therefore$\n",
    "dE = dEi\n",
    "\n",
    "$\\because$\n",
    "ki along z\n",
    "\n",
    "$\\therefore$\n",
    "dQz = dki\n",
    "\n",
    "$\\frac{ki^2}{2m} = Ei$\n",
    "\n",
    "$2\\frac{dki}{ki} = \\frac{dEi}{Ei}$\n",
    "\n",
    "$\\frac{dQz}{dE} = \\frac{ki}{2Ei}$\n",
    "\n"
   ]
  },
  {
   "cell_type": "code",
   "execution_count": 32,
   "metadata": {
    "collapsed": false
   },
   "outputs": [
    {
     "name": "stdout",
     "output_type": "stream",
     "text": [
      "0.00492489775554\n"
     ]
    }
   ],
   "source": [
    "slope = ki/2./Ei/2/np.pi  # 2pi convert Q to l\n",
    "print slope"
   ]
  },
  {
   "cell_type": "markdown",
   "metadata": {},
   "source": [
    "slope from plot"
   ]
  },
  {
   "cell_type": "code",
   "execution_count": 33,
   "metadata": {
    "collapsed": false
   },
   "outputs": [
    {
     "data": {
      "text/plain": [
       "0.004047619047619047"
      ]
     },
     "execution_count": 33,
     "metadata": {},
     "output_type": "execute_result"
    }
   ],
   "source": [
    "(0.025-(-0.06))/(7-(-14))"
   ]
  },
  {
   "cell_type": "code",
   "execution_count": null,
   "metadata": {
    "collapsed": true
   },
   "outputs": [],
   "source": []
  }
 ],
 "metadata": {
  "kernelspec": {
   "display_name": "mcvine-unstable at jnrk-sns-analysis",
   "language": "python",
   "name": "jnrk-sns-analysis-mcvine-unstable"
  },
  "language_info": {
   "codemirror_mode": {
    "name": "ipython",
    "version": 2
   },
   "file_extension": ".py",
   "mimetype": "text/x-python",
   "name": "python",
   "nbconvert_exporter": "python",
   "pygments_lexer": "ipython2",
   "version": "2.7.12"
  }
 },
 "nbformat": 4,
 "nbformat_minor": 0
}
