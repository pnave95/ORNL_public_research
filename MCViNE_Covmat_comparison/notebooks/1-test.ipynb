{
 "cells": [
  {
   "cell_type": "code",
   "execution_count": 1,
   "metadata": {
    "collapsed": false
   },
   "outputs": [
    {
     "name": "stdout",
     "output_type": "stream",
     "text": [
      "/SNS/users/p63/ORNL_public_research/MCViNE_Covmat_comparison/notebooks/1-test\n"
     ]
    }
   ],
   "source": [
    "#workdir = '/SNS/users/lj7/simulations/ARCS/resolution-fit-covmat/debug-Ricky/1-test'\n",
    "workdir = '/SNS/users/p63/ORNL_public_research/MCViNE_Covmat_comparison/notebooks/1-test'\n",
    "!mkdir -p {workdir}\n",
    "%cd {workdir}"
   ]
  },
  {
   "cell_type": "markdown",
   "metadata": {},
   "source": [
    "# Tools"
   ]
  },
  {
   "cell_type": "code",
   "execution_count": 2,
   "metadata": {
    "collapsed": false
   },
   "outputs": [],
   "source": [
    "import mcvine.cli\n",
    "from mcvine_workflow.singlextal.resolution import use_covmat, use_res_comps\n",
    "import numpy as np\n",
    "import histogram as H, histogram.hdf as hh"
   ]
  },
  {
   "cell_type": "code",
   "execution_count": 3,
   "metadata": {
    "collapsed": true
   },
   "outputs": [],
   "source": [
    "from matplotlib import pyplot as plt\n",
    "%matplotlib inline"
   ]
  },
  {
   "cell_type": "markdown",
   "metadata": {},
   "source": [
    "# Sample"
   ]
  },
  {
   "cell_type": "code",
   "execution_count": 4,
   "metadata": {
    "collapsed": false
   },
   "outputs": [
    {
     "name": "stdout",
     "output_type": "stream",
     "text": [
      "Overwriting Si.yml\n"
     ]
    }
   ],
   "source": [
    "%%file Si.yml\n",
    "name: Si\n",
    "chemical_formula: Si2\n",
    "lattice: \n",
    " constants: 5.490700041, 5.490700041, 5.490700041, 90, 90, 90\n",
    " basis_vectors:\n",
    "  - 5.490700041, 0, 0\n",
    "  - 0, 5.490700041, 0\n",
    "  - 0, 0, 5.490700041\n",
    " primitive_basis_vectors:\n",
    "  - 0.0, 2.71526503565, 2.71526503565\n",
    "  - 2.71526503565, 0.0, 2.71526503565\n",
    "  - 2.71526503565, 2.71526503565, 0.0\n",
    "excitations:\n",
    " - type: DGSresolution\n",
    "orientation:\n",
    " u: -1, 1, -1\n",
    " v: 2, 1, -1\n",
    "shape: cylinder radius=\"1*mm\" height=\"2*inch\"\n",
    "temperature: 100*K"
   ]
  },
  {
   "cell_type": "code",
   "execution_count": 5,
   "metadata": {
    "collapsed": true
   },
   "outputs": [],
   "source": [
    "sampleyml = \"Si.yml\""
   ]
  },
  {
   "cell_type": "markdown",
   "metadata": {},
   "source": [
    "# Instrument"
   ]
  },
  {
   "cell_type": "code",
   "execution_count": 6,
   "metadata": {
    "collapsed": true
   },
   "outputs": [],
   "source": [
    "instrument = use_covmat.instrument(\n",
    "    name = 'ARCS',\n",
    "    detsys_radius = \"3.*meter\",\n",
    "    L_m2s = \"13.6*meter\",\n",
    "    L_m2fc = \"11.61*meter\",\n",
    "    offset_sample2beam = \"-0.15*meter\" # offset from sample to saved beam\n",
    "    )\n",
    "pixel = use_covmat.pixel(\n",
    "    radius = \"0.5*inch\",\n",
    "    height = \"meter/128\",\n",
    "    pressure = \"10*atm\",\n",
    "    )"
   ]
  },
  {
   "cell_type": "markdown",
   "metadata": {},
   "source": [
    "# Experiment"
   ]
  },
  {
   "cell_type": "code",
   "execution_count": 7,
   "metadata": {
    "collapsed": true
   },
   "outputs": [],
   "source": [
    "#Ei = 100\n",
    "Ei = 60\n",
    "class dynamics:\n",
    "    #hkl0 = [-16/3.,-8/3.,8/3.]\n",
    "    hkl0 = [0.0, 0.0, 0.0]\n",
    "    #hkl_dir = np.array([-1.,1.,-1.])/3\n",
    "    hkl_dir = np.array([1,0,0])\n",
    "    #E = 40.\n",
    "    E = 30.0\n",
    "    #dq = 0\n",
    "    dq = -3.17390681006\n",
    "class scan:\n",
    "    #psimin, psimax, dpsi = -5, 90., 0.5\n",
    "    #psimin, psimax, dpsi = 45., 47., 0.2\n",
    "    min, max, step = -5., 90., 0.5"
   ]
  },
  {
   "cell_type": "markdown",
   "metadata": {},
   "source": [
    "# Use Cov Mat"
   ]
  },
  {
   "cell_type": "code",
   "execution_count": 8,
   "metadata": {
    "collapsed": false,
    "scrolled": true
   },
   "outputs": [
    {
     "name": "stderr",
     "output_type": "stream",
     "text": [
      "/SNS/software/miniconda2/envs/mcvine-unstable/share/mcvine/workflow/mcvine_workflow/singlextal/solve_psi.py:55: UserWarning: Traceback (most recent call last):\n",
      "  File \"/SNS/software/miniconda2/envs/mcvine-unstable/share/mcvine/workflow/mcvine_workflow/singlextal/solve_psi.py\", line 52, in solve\n",
      "    results.append(solver(res, min, max))\n",
      "  File \"/SNS/software/miniconda2/envs/mcvine-unstable/lib/python2.7/site-packages/scipy/optimize/zeros.py\", line 442, in brentq\n",
      "    r = _zeros._brentq(f,a,b,xtol,rtol,maxiter,args,full_output,disp)\n",
      "ValueError: f(a) and f(b) must have different signs\n",
      "\n",
      "  warnings.warn(tb.format_exc())\n"
     ]
    },
    {
     "name": "stdout",
     "output_type": "stream",
     "text": [
      "psi=9.79767247399, Q=[  2.57099503e+00  -2.56543131e+00  -2.84820759e-16]\n",
      "hkl2Q=array([[ -8.10041120e-01,   8.08288163e-01,   8.97382235e-17],\n",
      "       [  5.71546041e-01,   5.72785569e-01,  -8.09165116e-01],\n",
      "       [ -5.71546041e-01,  -5.72785569e-01,  -8.09165116e-01]])\n",
      "(Q = hkl dot hkl2Q)\n",
      "3.63200402251\n",
      "5.38106180748\n",
      "[  2.81006678e+00   2.56543131e+00   2.84820759e-16]\n",
      "ti= 3426.76604318\n",
      "tf= 1252.24263911\n",
      "R= 3.0\n",
      "Q= [  2.57099503e+00  -2.56543131e+00  -2.84820759e-16]\n",
      "eeta= -0.784314974421\n"
     ]
    },
    {
     "data": {
      "image/png": "[encoded data removed]",
      "text/plain": [
       "<matplotlib.figure.Figure at 0x7f4f6f875f10>"
      ]
     },
     "metadata": {},
     "output_type": "display_data"
    }
   ],
   "source": [
    "tofwidths = use_covmat.tofwidths(P=10,M=8)\n",
    "beamdivs = use_covmat.beamdivs(theta = 0.01, phi = 0.01)\n",
    "samplethickness = 0.0015\n",
    "u, mR, lambdas = use_covmat.compute(\n",
    "    sampleyml, Ei, dynamics, scan,\n",
    "    instrument, pixel,\n",
    "    tofwidths, beamdivs, samplethickness,\n",
    "    plot=True)"
   ]
  },
  {
   "cell_type": "code",
   "execution_count": 9,
   "metadata": {
    "collapsed": false
   },
   "outputs": [
    {
     "name": "stdout",
     "output_type": "stream",
     "text": [
      "(2, 2)\n",
      "[[ 0.99852254 -0.05433901]\n",
      " [ 0.05433901  0.99852254]]\n",
      "[  5.91119629e+03   1.06244277e+00]\n"
     ]
    }
   ],
   "source": [
    "print mR.shape\n",
    "print mR\n",
    "print lambdas"
   ]
  },
  {
   "cell_type": "markdown",
   "metadata": {},
   "source": [
    "# Use Res Comps"
   ]
  },
  {
   "cell_type": "code",
   "execution_count": 10,
   "metadata": {
    "collapsed": false
   },
   "outputs": [
    {
     "name": "stdout",
     "output_type": "stream",
     "text": [
      "[0.0, 0.0, 0.0] [1 0 0] -3.17390681006\n"
     ]
    }
   ],
   "source": [
    "print dynamics.hkl0, dynamics.hkl_dir, dynamics.dq"
   ]
  },
  {
   "cell_type": "code",
   "execution_count": 11,
   "metadata": {
    "collapsed": true
   },
   "outputs": [],
   "source": [
    "hkl = dynamics.hkl0 + dynamics.hkl_dir*dynamics.dq"
   ]
  },
  {
   "cell_type": "code",
   "execution_count": 12,
   "metadata": {
    "collapsed": false
   },
   "outputs": [
    {
     "name": "stdout",
     "output_type": "stream",
     "text": [
      "Ei=60.5749708602, t0=25.8434782478\n",
      "Computed:\n",
      "* psi=9.52515887496 degree\n",
      "* Q=[ 2.55876414 -2.57763056  0.        ]\n",
      "* hkl2Qmat=[[-0.80618754  0.81213177  0.        ]\n",
      " [ 0.57426388  0.57006068 -0.80916512]\n",
      " [-0.57426388 -0.57006068 -0.80916512]]\n",
      "* ki=5.40678328097\n",
      "* vectors ki=[ 5.40678328  0.          0.        ], kf=[ 2.84801914  2.57763056  0.        ]\n",
      "These two numbers should be very close:\n",
      "  30.0\n",
      "  30.0\n",
      "  Ei=60.5749708602, Ef=30.5749708602\n",
      "* Ef=30.5749708602\n",
      "* pixel positon=[ 2.22427652  2.01310555  0.        ]\n",
      "* pixel_position=[ 2.22427652  2.01310555  0.        ]\n",
      "t_m2s=0.00402087455134, t_s2p=0.00124041237111, t_m2p=0.00526128692245\n"
     ]
    }
   ],
   "source": [
    "#beam = \"/SNS/users/lj7/simulations/ARCS/beam/100meV-n1e10\"\n",
    "beam = \"/SNS/users/p63/ORNL_public_research/MCViNE_Covmat_comparison/mcvine_resolution/beams/beam_60_1e9\"\n",
    "#psi_axis = scan.psimin, scan.psimax, scan.dpsi\n",
    "# psi_axis = scan.min, scan.max, scan.step\n",
    "use_res_comps.setup(\n",
    "    'out.res_comps_tmp', sampleyml, beam, dynamics.E, hkl, dynamics.hkl_dir,\n",
    "    scan, instrument, pixel)"
   ]
  },
  {
   "cell_type": "code",
   "execution_count": 13,
   "metadata": {
    "collapsed": false
   },
   "outputs": [
    {
     "name": "stdout",
     "output_type": "stream",
     "text": [
      "dEs.npy  dhkls.npy  dxs.npy  log.run  probs.npy  res.h5  run.py  \u001b[0m\u001b[01;34msample\u001b[0m/\r\n"
     ]
    }
   ],
   "source": [
    "ls out.res_comps_tmp/"
   ]
  },
  {
   "cell_type": "code",
   "execution_count": 14,
   "metadata": {
    "collapsed": false
   },
   "outputs": [
    {
     "name": "stdout",
     "output_type": "stream",
     "text": [
      "Overwriting out.res_comps_tmp/run.py\n"
     ]
    }
   ],
   "source": [
    "%%file out.res_comps_tmp/run.py\n",
    "#!/usr/bin/env python\n",
    "import mcvine.cli\n",
    "from numpy import array\n",
    "from mcvine_workflow.singlextal.resolution import use_res_comps as urc\n",
    "beam_neutrons_path = '/SNS/users/p63/ORNL_public_research/MCViNE_Covmat_comparison/mcvine_resolution/beams/beam_60/out/neutrons'\n",
    "instrument = urc.instrument('ARCS', '3.*meter', '13.6*meter', '-0.15*meter')\n",
    "samplexmlpath = '/SNS/users/lj7/simulations/ARCS/resolution-fit-covmat/debug-Ricky/1-test/out.res_comps_tmp/sample/sampleassembly.xml'\n",
    "psi = -0.08725694187870671\n",
    "hkl2Q = array([[-0.57674248,  0.98836455,  0.        ],\n",
    "       [ 0.69887928,  0.40781852, -0.80916512],\n",
    "       [-0.69887928, -0.40781852, -0.80916512]])\n",
    "pp = array([ 2.44150988,  1.74328124,  0.        ])\n",
    "pixel = urc.pixel('0.5*inch', 'meter/128', '10*atm', position=(pp[1], pp[2], pp[0]))\n",
    "t_m2p = 0.0050371160063350257\n",
    "Q = array([ 1.59000154, -2.7247883 ,  0.        ])\n",
    "E = 15.0\n",
    "hkl_projection = array([1, 0, 0])\n",
    "urc.run(\n",
    "    beam_neutrons_path, instrument, samplexmlpath, psi, hkl2Q, pixel, t_m2p,\n",
    "    Q, E, hkl_projection, Nbuffer=100000)"
   ]
  },
  {
   "cell_type": "code",
   "execution_count": 15,
   "metadata": {
    "collapsed": false
   },
   "outputs": [
    {
     "name": "stdout",
     "output_type": "stream",
     "text": [
      "/SNS/users/p63/ORNL_public_research/MCViNE_Covmat_comparison/notebooks/1-test/out.res_comps_tmp\n",
      "Traceback (most recent call last):\n",
      "  File \"run.py\", line 20, in <module>\n",
      "    Q, E, hkl_projection, Nbuffer=100000)\n",
      "  File \"/SNS/software/miniconda2/envs/mcvine-unstable/share/mcvine/workflow/mcvine_workflow/singlextal/resolution/use_res_comps.py\", line 285, in run\n",
      "    dxs_all *= -1\n",
      "TypeError: unsupported operand type(s) for *=: 'NoneType' and 'int'\n",
      "/SNS/users/p63/ORNL_public_research/MCViNE_Covmat_comparison/notebooks/1-test\n",
      "CPU times: user 19 ms, sys: 7.65 ms, total: 26.6 ms\n",
      "Wall time: 693 ms\n"
     ]
    }
   ],
   "source": [
    "%%time\n",
    "%cd {workdir}/out.res_comps_tmp/\n",
    "!python run.py >log.run\n",
    "%cd {workdir}"
   ]
  },
  {
   "cell_type": "code",
   "execution_count": 16,
   "metadata": {
    "collapsed": false
   },
   "outputs": [
    {
     "name": "stdout",
     "output_type": "stream",
     "text": [
      "dEs.npy  dhkls.npy  dxs.npy  log.run  probs.npy  res.h5  run.py  \u001b[0m\u001b[01;34msample\u001b[0m/\r\n"
     ]
    }
   ],
   "source": [
    "ls out.res_comps_tmp/"
   ]
  },
  {
   "cell_type": "code",
   "execution_count": 17,
   "metadata": {
    "collapsed": false
   },
   "outputs": [
    {
     "name": "stderr",
     "output_type": "stream",
     "text": [
      "/SNS/software/miniconda2/envs/mcvine-unstable/lib/python2.7/site-packages/histogram/hdf/Loader.py:129: FutureWarning: elementwise comparison failed; returning scalar instead, but in the future will perform elementwise comparison\n",
      "  if 'storage' in list(dataGroup): # this uses the 'storage' convention\n"
     ]
    }
   ],
   "source": [
    "res = hh.load('out.res_comps_tmp/res.h5')"
   ]
  },
  {
   "cell_type": "code",
   "execution_count": 18,
   "metadata": {
    "collapsed": false
   },
   "outputs": [],
   "source": [
    "q = res.x\n",
    "E = res.E\n",
    "dE = E[1]-E[0]\n",
    "dq = q[1]-q[0]\n",
    "Eg, qg = np.mgrid[slice(E[0], E[-1]+dE/2, E[1]-E[0]), slice(q[0], q[-1]+dq/2, q[1]-q[0])]"
   ]
  },
  {
   "cell_type": "code",
   "execution_count": 19,
   "metadata": {
    "collapsed": false
   },
   "outputs": [
    {
     "data": {
      "text/plain": [
       "[<matplotlib.lines.Line2D at 0x7f4f6d858ad0>]"
      ]
     },
     "execution_count": 19,
     "metadata": {},
     "output_type": "execute_result"
    },
    {
     "data": {
      "image/png": "[encoded data removed]",
      "text/plain": [
       "<matplotlib.figure.Figure at 0x7f4f6d858d90>"
      ]
     },
     "metadata": {},
     "output_type": "display_data"
    }
   ],
   "source": [
    "# plt.figure(figsize=(4,6))\n",
    "plt.pcolormesh(qg, Eg, res.I.T, cmap='viridis')\n",
    "# plt.clim(0, 0.001)\n",
    "plt.xlim(-0.4,0.2)\n",
    "plt.ylim(-10,7)\n",
    "plt.colorbar()\n",
    "plt.plot(u[:, 0], u[:, 1], '.')"
   ]
  },
  {
   "cell_type": "code",
   "execution_count": 20,
   "metadata": {
    "collapsed": false
   },
   "outputs": [
    {
     "data": {
      "text/plain": [
       "(-10, 7)"
      ]
     },
     "execution_count": 20,
     "metadata": {},
     "output_type": "execute_result"
    },
    {
     "data": {
      "image/png": "[encoded data removed]",
      "text/plain": [
       "<matplotlib.figure.Figure at 0x7f4f6d858510>"
      ]
     },
     "metadata": {},
     "output_type": "display_data"
    }
   ],
   "source": [
    "# added by me: plot just the mcvine result\n",
    "\n",
    "plt.figure()\n",
    "plt.pcolormesh(qg, Eg, res.I.T)\n",
    "plt.xlim(-0.4,0.2)\n",
    "plt.ylim(-10,7)"
   ]
  },
  {
   "cell_type": "code",
   "execution_count": 21,
   "metadata": {
    "collapsed": false
   },
   "outputs": [
    {
     "name": "stdout",
     "output_type": "stream",
     "text": [
      "4977418157.9\n",
      "[99] [0]\n",
      "(1,)\n",
      "(1,)\n",
      "99 0\n",
      "0.0587190990355\n",
      "[22] [96]\n",
      "withoutmax[m11][m12] = 0.0\n",
      "(100, 100)\n",
      "1.02408665559\n",
      "-0.000332899050269\n",
      "0.0423884607848\n",
      "(100,) (100,)\n",
      "[0.034761554786473109, 0.058719099035507746, 0.045001127129696977, 0.053157566884861646, 0.03226236679757364, 0.032386030392894685, 0.030096975948945875, 0.048693492570903156, 4977418157.9005308, 0.046531781595261792]\n",
      "[[ 24.  96.]\n",
      " [ 22.  96.]\n",
      " [ 22.  97.]\n",
      " [ 25.  96.]\n",
      " [ 18.  96.]\n",
      " [ 24.  97.]\n",
      " [ 19.  96.]\n",
      " [ 23.  96.]\n",
      " [ 99.   0.]\n",
      " [ 27.  96.]]\n"
     ]
    }
   ],
   "source": [
    "# compute the variance in q and E\n",
    "#print res.I.T.shape\n",
    "#print qg.shape\n",
    "#print Eg.shape\n",
    "\n",
    "# we must debug:  there is some huge intensity value which is throwing everything off\n",
    "maxelement = np.max(res.I.T)\n",
    "print maxelement\n",
    "maxindex1, maxindex2 = np.where(res.I.T == maxelement)\n",
    "print maxindex1, maxindex2\n",
    "print maxindex1.shape\n",
    "print maxindex2.shape\n",
    "m11 = maxindex1[0]\n",
    "m12 = maxindex2[0]\n",
    "print m11, m12\n",
    "withoutmax = np.copy(res.I.T)\n",
    "withoutmax[m11][m12] = 0.0\n",
    "maxelement2 = np.max(withoutmax)\n",
    "m21, m22 = np.where(withoutmax == maxelement2)\n",
    "print maxelement2\n",
    "print m21, m22\n",
    "\n",
    "print \"withoutmax[m11][m12] = \" + str(withoutmax[m11][m12])\n",
    "\n",
    "# remove erroneous max element if it exists\n",
    "if np.fabs(maxelement - maxelement2) > 0.1*maxelement2:\n",
    "    I = withoutmax\n",
    "else:\n",
    "    I = res.I.T\n",
    "    \n",
    "\n",
    "weighted_qs = np.multiply(qg, I)\n",
    "weighted_Es = np.multiply(Eg, I)\n",
    "print weighted_qs.shape\n",
    "\n",
    "sum_weights = np.sum(I)\n",
    "print sum_weights\n",
    "q_mean = np.sum(weighted_qs) / sum_weights\n",
    "print q_mean\n",
    "E_mean = np.sum(weighted_Es) / sum_weights\n",
    "print E_mean\n",
    "\n",
    "print q.shape, E.shape\n",
    "\n",
    "q_avg = np.average(qg, axis=None, weights=I)\n",
    "#print res.I.T\n",
    "\n",
    "topten = np.zeros(10)\n",
    "topten = topten.tolist()\n",
    "indices = np.zeros((10,2))\n",
    "for i in range(100):\n",
    "    for j in range(100):\n",
    "        toptenmin = min(topten)\n",
    "        index = topten.index(toptenmin)\n",
    "        if res.I.T[i][j] > toptenmin:\n",
    "            topten[index] = res.I.T[i][j]\n",
    "            indices[index][0] = i\n",
    "            indices[index][1] = j\n",
    "\n",
    "print topten\n",
    "print indices\n"
   ]
  },
  {
   "cell_type": "code",
   "execution_count": 24,
   "metadata": {
    "collapsed": false
   },
   "outputs": [
    {
     "name": "stdout",
     "output_type": "stream",
     "text": [
      "(100, 100)\n",
      "1.02408665559\n",
      "q_mean = -0.000332899050269\n",
      "E_mean = 0.0423884607848\n",
      "(100,) (100,)\n",
      "-0.000332899050269 0.0423884607848\n",
      "0.000591450185975\n",
      "1.31380448826\n",
      "-0.0141609773444\n"
     ]
    }
   ],
   "source": [
    "# compute the variance in q and E\n",
    "#print res.I.T.shape\n",
    "#print qg.shape\n",
    "#print Eg.shape\n",
    "\n",
    "# we must debug:  there is some huge intensity value which is throwing everything off\n",
    "maxelement = np.max(res.I.T)\n",
    "#print maxelement\n",
    "maxindex1, maxindex2 = np.where(res.I.T == maxelement)\n",
    "#print maxindex1, maxindex2\n",
    "#print maxindex1.shape\n",
    "#print maxindex2.shape\n",
    "m11 = maxindex1[0]\n",
    "m12 = maxindex2[0]\n",
    "#print m11, m12\n",
    "withoutmax = np.copy(res.I.T)\n",
    "withoutmax[m11][m12] = 0.0\n",
    "maxelement2 = np.max(withoutmax)\n",
    "m21, m22 = np.where(withoutmax == maxelement2)\n",
    "#print maxelement2\n",
    "#print m21, m22\n",
    "\n",
    "#print \"withoutmax[m11][m12] = \" + str(withoutmax[m11][m12])\n",
    "\n",
    "# remove erroneous max element if it exists\n",
    "if np.fabs(maxelement - maxelement2) > 0.1*maxelement2:\n",
    "    I = withoutmax\n",
    "else:\n",
    "    I = res.I.T\n",
    "    \n",
    "\n",
    "weighted_qs = np.multiply(qg, I)\n",
    "weighted_Es = np.multiply(Eg, I)\n",
    "print weighted_qs.shape\n",
    "\n",
    "sum_weights = np.sum(I)\n",
    "print sum_weights\n",
    "q_mean = np.sum(weighted_qs) / sum_weights\n",
    "print \"q_mean = \" + str(q_mean)\n",
    "E_mean = np.sum(weighted_Es) / sum_weights\n",
    "print \"E_mean = \" + str(E_mean)\n",
    "\n",
    "print q.shape, E.shape\n",
    "\n",
    "q_avg = np.average(qg, axis=None, weights=I)\n",
    "E_avg = np.average(Eg, axis=None, weights=I)\n",
    "#print res.I.T\n",
    "print q_avg, E_avg\n",
    "\n",
    "q_avg_array = np.zeros(I.shape)\n",
    "q_avg_array.fill(q_avg)\n",
    "q_diffs = qg - q_avg_array\n",
    "q_diffs2 = np.square(q_diffs)\n",
    "w_q_diffs2 = np.multiply(q_diffs2, I)\n",
    "wq_diff_sum = np.sum(w_q_diffs2)\n",
    "Var_q = wq_diff_sum / sum_weights\n",
    "print Var_q\n",
    "\n",
    "E_avg_array = np.zeros(I.shape)\n",
    "E_avg_array.fill(E_avg)\n",
    "E_diffs = Eg - E_avg_array\n",
    "E_diffs2 = np.square(E_diffs)\n",
    "w_E_diffs2 = np.multiply(E_diffs2, I)\n",
    "wE_diff_sum = np.sum(w_E_diffs2)\n",
    "Var_E = wE_diff_sum / sum_weights\n",
    "print Var_E\n",
    "\n",
    "# Now, compute the covariance of q and E\n",
    "product_diffs = np.multiply(q_diffs, E_diffs)\n",
    "w_prod_diffs = np.multiply(product_diffs, I)\n",
    "sum_w_prod_diffs = np.sum(w_prod_diffs)\n",
    "Cov_qE = sum_w_prod_diffs / sum_weights\n",
    "print Cov_qE"
   ]
  },
  {
   "cell_type": "code",
   "execution_count": 23,
   "metadata": {
    "collapsed": true
   },
   "outputs": [],
   "source": [
    "# added by me: try fitting Gaussian covariance matrix\n",
    "\n",
    "import scipy.optimize as opt\n",
    "\n",
    "# define multivariate Gaussian model\n",
    "# x,y = points to compute value at, x_o,y_o = center point, s2x = x_variance (at x_0,y_o), \n",
    "# sxy = x,y_covariance, s2y = y_variance\n",
    "def _mvGaussian(x, y, x_o, y_o, s2x, sxy, s2y):\n",
    "    M = np.array([[s2x, sxy], [sxy, s2y]])  # covariance matrix\n",
    "    detM = s2x*s2y - sxy**2\n",
    "    \n",
    "    "
   ]
  }
 ],
 "metadata": {
  "kernelspec": {
   "display_name": "mcvine-unstable at jnrk-sns-analysis",
   "language": "python",
   "name": "jnrk-sns-analysis-mcvine-unstable"
  },
  "language_info": {
   "codemirror_mode": {
    "name": "ipython",
    "version": 2
   },
   "file_extension": ".py",
   "mimetype": "text/x-python",
   "name": "python",
   "nbconvert_exporter": "python",
   "pygments_lexer": "ipython2",
   "version": "2.7.12"
  }
 },
 "nbformat": 4,
 "nbformat_minor": 0
}
