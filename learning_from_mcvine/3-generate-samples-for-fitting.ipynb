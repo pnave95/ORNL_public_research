{
 "cells": [
  {
   "cell_type": "markdown",
   "metadata": {},
   "source": [
    "# Generate a series of hkl0 values\n",
    "\n",
    "Tricky things\n",
    "* Make sure Ei is consistent with the beam simulation\n",
    "* Make sure the angles are in correct units"
   ]
  },
  {
   "cell_type": "code",
   "execution_count": 1,
   "metadata": {
    "collapsed": false
   },
   "outputs": [
    {
     "name": "stdout",
     "output_type": "stream",
     "text": [
      "/SNS/users/p63/notebooks/.rk-work/jnrk-sns-analysis-mcvine-unstable\r\n"
     ]
    }
   ],
   "source": [
    "!pwd"
   ]
  },
  {
   "cell_type": "code",
   "execution_count": 2,
   "metadata": {
    "collapsed": true
   },
   "outputs": [],
   "source": [
    "# some goodies\n",
    "# %matplotlib notebook\n",
    "%matplotlib inline\n",
    "from matplotlib import pyplot as plt"
   ]
  },
  {
   "cell_type": "code",
   "execution_count": 3,
   "metadata": {
    "collapsed": true
   },
   "outputs": [],
   "source": [
    "import numpy as np, os\n",
    "import histogram.hdf as hh, histogram as H"
   ]
  },
  {
   "cell_type": "code",
   "execution_count": 4,
   "metadata": {
    "collapsed": false
   },
   "outputs": [],
   "source": [
    "import mcvine.cli\n",
    "from mcvine_workflow.DGS import ARCS\n",
    "from mcvine_workflow import singlextal as sx\n",
    "from mcvine_workflow.sample import loadSampleYml\n",
    "from mcvine_workflow.singlextal import io as sxio, coords_transform, dynrange\n",
    "from mcvine_workflow.singlextal.resolution import use_covmat, use_res_comps"
   ]
  },
  {
   "cell_type": "code",
   "execution_count": 5,
   "metadata": {
    "collapsed": false
   },
   "outputs": [
    {
     "name": "stdout",
     "output_type": "stream",
     "text": [
      "/SNS/users/p63/ORNL_public_research/MCViNE_Covmat_comparison/notebooks/3-generate-samples-for-fitting\n"
     ]
    }
   ],
   "source": [
    "workdir = '/SNS/users/p63/ORNL_public_research/MCViNE_Covmat_comparison/notebooks/3-generate-samples-for-fitting'\n",
    "!mkdir -p {workdir}\n",
    "%cd {workdir}"
   ]
  },
  {
   "cell_type": "markdown",
   "metadata": {},
   "source": [
    "# Inputs"
   ]
  },
  {
   "cell_type": "markdown",
   "metadata": {},
   "source": [
    "## Instrument\n",
    "\n",
    "ARCS"
   ]
  },
  {
   "cell_type": "code",
   "execution_count": 6,
   "metadata": {
    "collapsed": true
   },
   "outputs": [],
   "source": [
    "instrument = use_covmat.instrument(\n",
    "    name = 'ARCS',\n",
    "    detsys_radius = \"3.*meter\",\n",
    "    L_m2s = \"13.6*meter\",\n",
    "    L_m2fc = \"11.61*meter\",\n",
    "    offset_sample2beam = \"-0.15*meter\" # offset from sample to saved beam\n",
    "    )\n",
    "pixel = use_covmat.pixel(\n",
    "    radius = \"0.5*inch\",\n",
    "    height = \"meter/128\",\n",
    "    pressure = \"10*atm\",\n",
    "    )"
   ]
  },
  {
   "cell_type": "markdown",
   "metadata": {},
   "source": [
    "## Sample"
   ]
  },
  {
   "cell_type": "code",
   "execution_count": 7,
   "metadata": {
    "collapsed": false
   },
   "outputs": [
    {
     "name": "stdout",
     "output_type": "stream",
     "text": [
      "Writing Si.yml\n"
     ]
    }
   ],
   "source": [
    "%%file Si.yml\n",
    "name: Si\n",
    "chemical_formula: Si2\n",
    "lattice: \n",
    " constants: 5.490700041, 5.490700041, 5.490700041, 90, 90, 90\n",
    " basis_vectors:\n",
    "  - 5.490700041, 0, 0\n",
    "  - 0, 5.490700041, 0\n",
    "  - 0, 0, 5.490700041\n",
    " primitive_basis_vectors:\n",
    "  - 0.0, 2.71526503565, 2.71526503565\n",
    "  - 2.71526503565, 0.0, 2.71526503565\n",
    "  - 2.71526503565, 2.71526503565, 0.0\n",
    "excitations:\n",
    "  - type: DGSresolution\n",
    "orientation:\n",
    " u: -1, 1, -1\n",
    " v: 2, 1, -1\n",
    "shape: hollowCylinder in_radius=\"5./8*inch\" out_radius=\"1.*inch\" height=\"1.5*inch\"\n",
    "temperature: 100*K"
   ]
  },
  {
   "cell_type": "code",
   "execution_count": 8,
   "metadata": {
    "collapsed": true
   },
   "outputs": [],
   "source": [
    "sample_yml = './Si.yml'"
   ]
  },
  {
   "cell_type": "markdown",
   "metadata": {},
   "source": [
    "## ** Dynamics parameters"
   ]
  },
  {
   "cell_type": "code",
   "execution_count": 9,
   "metadata": {
    "collapsed": true
   },
   "outputs": [],
   "source": [
    "# Ei = 100\n",
    "q = 0\n",
    "# E = 20.  # energy transfer"
   ]
  },
  {
   "cell_type": "code",
   "execution_count": 10,
   "metadata": {
    "collapsed": false
   },
   "outputs": [],
   "source": [
    "xo = sxio.loadXtalOriFromSampleYml('Si.yml')\n",
    "# change psi if needed\n",
    "# xo.psi = np.deg2rad(30.)\n",
    "# print np.rad2deg(xo.psi)"
   ]
  },
  {
   "cell_type": "markdown",
   "metadata": {},
   "source": [
    "## Compute hkl0"
   ]
  },
  {
   "cell_type": "code",
   "execution_count": 11,
   "metadata": {
    "collapsed": false
   },
   "outputs": [
    {
     "name": "stdout",
     "output_type": "stream",
     "text": [
      "beam_1000      beam_125_1e9  beam_30\t  beam_500_1e9\r\n",
      "beam_1000_1e9  beam_250      beam_30_1e9  beam_60\r\n",
      "beam_125       beam_250_1e9  beam_500\t  beam_60_1e9\r\n"
     ]
    }
   ],
   "source": [
    "# Beam simulations by Ricky\n",
    "!ls /SNS/users/p63/ORNL_public_research/MCViNE_Covmat_comparison/mcvine_resolution/beams"
   ]
  },
  {
   "cell_type": "code",
   "execution_count": 12,
   "metadata": {
    "collapsed": true
   },
   "outputs": [],
   "source": [
    "Eis = [30, 60, 125, 250, 500, 1000]\n",
    "NEis = len(Eis)"
   ]
  },
  {
   "cell_type": "markdown",
   "metadata": {},
   "source": [
    "# Do One Ei first"
   ]
  },
  {
   "cell_type": "code",
   "execution_count": 13,
   "metadata": {
    "collapsed": false
   },
   "outputs": [
    {
     "data": {
      "text/plain": [
       "0.8286980236504258"
      ]
     },
     "execution_count": 13,
     "metadata": {},
     "output_type": "execute_result"
    }
   ],
   "source": [
    "np.random.random()"
   ]
  },
  {
   "cell_type": "code",
   "execution_count": 14,
   "metadata": {
    "collapsed": false
   },
   "outputs": [
    {
     "name": "stdout",
     "output_type": "stream",
     "text": [
      "[-0.47690292 -0.79327394  0.50436713 -0.06411085  0.2036706   0.89388316\n",
      " -0.80719883  0.82102801  0.72872252 -0.7933586 ]\n",
      "[ 83.46229659  60.95041245  47.28506359   2.11379204  32.76354049\n",
      "  29.72521307  -2.03122867  38.60641514   5.20403092  77.39082429]\n",
      "[-940.3357965     6.7196957  -323.84366835   12.98186848 -772.99326197\n",
      " -727.28582972 -105.84279783 -692.13694281  893.77314064 -416.88070174]\n",
      "[[-30.77053674  -4.33257929  -1.60464016]\n",
      " [-19.10087676  -4.16179269  -2.75520002]\n",
      " [-15.62007381  -1.39168323   6.57069046]\n",
      " [ -0.65642979  -0.49307836  -0.0831955 ]\n",
      " [ -9.97075477  -5.70846565   8.15706251]\n",
      " [ -8.74958335  -0.83982811  11.02871132]\n",
      " [  0.72860767  -3.59132617  -3.82661603]\n",
      " [-12.48772268  -1.25803408  10.58039554]\n",
      " [ -8.0379875    8.40688934  -6.31824498]\n",
      " [-25.90195658  -4.6331761   -3.62894129]]\n"
     ]
    }
   ],
   "source": [
    "Ei = 1000\n",
    "\n",
    "N_samples = 10\n",
    "theta_min = -5\n",
    "theta_max = 120\n",
    "thetas = np.random.random(N_samples)*(theta_max-theta_min) + theta_min\n",
    "\n",
    "z_min = -1\n",
    "z_max = 1.\n",
    "zs = np.random.random(N_samples)*(z_max-z_min) + z_min\n",
    "\n",
    "E_min = -Ei*.95\n",
    "E_max = Ei*.95\n",
    "Es = np.random.random(N_samples)*(E_max-E_min) + E_min\n",
    "\n",
    "rs = np.ones(N_samples)*3. # radius of the cylinder of the det system\n",
    "print zs\n",
    "print thetas\n",
    "print Es\n",
    "\n",
    "hkl0s = coords_transform.rtzE2hkl(r=rs, theta=np.deg2rad(thetas), z=zs, E=Es, xtalori=xo, Ei=Ei)\n",
    "print hkl0s"
   ]
  },
  {
   "cell_type": "code",
   "execution_count": 15,
   "metadata": {
    "collapsed": false
   },
   "outputs": [],
   "source": [
    "hkl_dir = np.array([0,0,1]) # this could be randomized too\n",
    "hkls = hkl0s+q*hkl_dir"
   ]
  },
  {
   "cell_type": "code",
   "execution_count": 16,
   "metadata": {
    "collapsed": false
   },
   "outputs": [
    {
     "name": "stdout",
     "output_type": "stream",
     "text": [
      "[[ -3.07705367e+01  -4.33257929e+00  -1.60464016e+00  -9.40335796e+02]\n",
      " [ -1.91008768e+01  -4.16179269e+00  -2.75520002e+00   6.71969570e+00]\n",
      " [ -1.56200738e+01  -1.39168323e+00   6.57069046e+00  -3.23843668e+02]\n",
      " [ -6.56429792e-01  -4.93078363e-01  -8.31954995e-02   1.29818685e+01]\n",
      " [ -9.97075477e+00  -5.70846565e+00   8.15706251e+00  -7.72993262e+02]\n",
      " [ -8.74958335e+00  -8.39828112e-01   1.10287113e+01  -7.27285830e+02]\n",
      " [  7.28607668e-01  -3.59132617e+00  -3.82661603e+00  -1.05842798e+02]\n",
      " [ -1.24877227e+01  -1.25803408e+00   1.05803955e+01  -6.92136943e+02]\n",
      " [ -8.03798750e+00   8.40688934e+00  -6.31824498e+00   8.93773141e+02]\n",
      " [ -2.59019566e+01  -4.63317610e+00  -3.62894129e+00  -4.16880702e+02]]\n"
     ]
    }
   ],
   "source": [
    "# hklE array\n",
    "print np.hstack((hkls, Es[:, np.newaxis]))"
   ]
  },
  {
   "cell_type": "markdown",
   "metadata": {},
   "source": [
    "** we have not randomize psi angles yet. could be done **"
   ]
  },
  {
   "cell_type": "markdown",
   "metadata": {},
   "source": [
    "## ** Other parameters"
   ]
  },
  {
   "cell_type": "code",
   "execution_count": 17,
   "metadata": {
    "collapsed": true
   },
   "outputs": [],
   "source": [
    "# scan\n",
    "class psi_scan:\n",
    "    min = -5\n",
    "    max = 90.\n",
    "    step = 1."
   ]
  },
  {
   "cell_type": "markdown",
   "metadata": {},
   "source": [
    "# Setup simulations"
   ]
  },
  {
   "cell_type": "code",
   "execution_count": 18,
   "metadata": {
    "collapsed": false
   },
   "outputs": [],
   "source": [
    "!rm -rf tmp.use_res_comps/\n",
    "!mkdir -p tmp.use_res_comps/"
   ]
  },
  {
   "cell_type": "code",
   "execution_count": 19,
   "metadata": {
    "collapsed": false,
    "scrolled": true
   },
   "outputs": [
    {
     "name": "stdout",
     "output_type": "stream",
     "text": [
      "-940.3357965 [-30.77053674  -4.33257929  -1.60464016]\n",
      "Ei=1010.94552405, t0=5.03711447572\n"
     ]
    },
    {
     "name": "stderr",
     "output_type": "stream",
     "text": [
      "/SNS/software/miniconda2/envs/mcvine-unstable/share/mcvine/workflow/mcvine_workflow/singlextal/solve_psi.py:55: UserWarning: Traceback (most recent call last):\n",
      "  File \"/SNS/software/miniconda2/envs/mcvine-unstable/share/mcvine/workflow/mcvine_workflow/singlextal/solve_psi.py\", line 52, in solve\n",
      "    results.append(solver(res, min, max))\n",
      "  File \"/SNS/software/miniconda2/envs/mcvine-unstable/lib/python2.7/site-packages/scipy/optimize/zeros.py\", line 442, in brentq\n",
      "    r = _zeros._brentq(f,a,b,xtol,rtol,maxiter,args,full_output,disp)\n",
      "ValueError: f(a) and f(b) must have different signs\n",
      "\n",
      "  warnings.warn(tb.format_exc())\n"
     ]
    },
    {
     "name": "stdout",
     "output_type": "stream",
     "text": [
      "Computed:\n",
      "* psi=-0.191719400203 degree\n",
      "* Q=[ 18.42662873 -30.08649004   4.80419087]\n",
      "* hkl2Qmat=[[ -6.57550419e-01   9.36548887e-01   7.76165047e-17]\n",
      " [  6.62240069e-01   4.64958360e-01  -8.09165116e-01]\n",
      " [ -6.62240069e-01  -4.64958360e-01  -8.09165116e-01]]\n",
      "* ki=22.0879917858\n",
      "* vectors ki=[ 22.08799179   0.           0.        ], kf=[  3.66136305  30.08649004  -4.80419087]\n",
      "These two numbers should be very close:\n",
      "  -940.3357965\n",
      "  -940.3357965\n",
      "  Ei=1010.94552405, Ef=1951.28132055\n",
      "* Ef=1951.28132055\n",
      "* pixel positon=[ 0.36241006  2.97802937 -0.47552976]\n",
      "* pixel_position=[ 0.36241006  2.97802937 -0.47552976]\n",
      "t_m2s=0.000982956131398, t_s2p=0.000157209094954, t_m2p=0.00114016522635\n",
      "6.7196957037 [-19.10087676  -4.16179269  -2.75520002]\n",
      "Ei=1010.94552405, t0=5.03711447572\n",
      "Computed:\n",
      "* psi=-0.196279161234 degree\n",
      "* Q=[ 11.62681176 -18.54383725   5.59698921]\n",
      "* hkl2Qmat=[[ -6.57475884e-01   9.36601214e-01  -7.76121684e-17]\n",
      " [  6.62277069e-01   4.64905656e-01  -8.09165116e-01]\n",
      " [ -6.62277069e-01  -4.64905656e-01  -8.09165116e-01]]\n",
      "* ki=22.0879917858\n",
      "* vectors ki=[ 22.08799179   0.           0.        ], kf=[ 10.46118002  18.54383725  -5.59698921]\n",
      "These two numbers should be very close:\n",
      "  6.71969570371\n",
      "  6.7196957037\n",
      "  Ei=1010.94552405, Ef=1004.22582835\n",
      "* Ef=1004.22582835\n",
      "* pixel positon=[ 1.47402277  2.612902   -0.78863852]\n",
      "* pixel_position=[ 1.47402277  2.612902   -0.78863852]\n",
      "t_m2s=0.000982956131398, t_s2p=0.000223791573862, t_m2p=0.00120674770526\n",
      "-323.843668347 [-15.62007381  -1.39168323   6.57069046]\n",
      "Ei=1010.94552405, t0=5.03711447572\n",
      "Computed:\n",
      "* psi=-0.0858996441077 degree\n",
      "* Q=[  5.03183047 -18.32187291  -4.19067199]\n",
      "* hkl2Qmat=[[-0.65927901  0.93533286  0.        ]\n",
      " [ 0.66138021  0.46618066 -0.80916512]\n",
      " [-0.66138021 -0.46618066 -0.80916512]]\n",
      "* ki=22.0879917858\n",
      "* vectors ki=[ 22.08799179   0.           0.        ], kf=[ 17.05616132  18.32187291   4.19067199]\n",
      "These two numbers should be very close:\n",
      "  -323.843668347\n",
      "  -323.843668347\n",
      "  Ei=1010.94552405, Ef=1334.7891924\n",
      "* Ef=1334.7891924\n",
      "* pixel positon=[ 2.04411857  2.19580948  0.50223672]\n",
      "* pixel_position=[ 2.04411857  2.19580948  0.50223672]\n",
      "t_m2s=0.000982956131398, t_s2p=0.000190346547736, t_m2p=0.00117330267913\n",
      "12.9818684844 [-0.65642979 -0.49307836 -0.0831955 ]\n",
      "Ei=1010.94552405, t0=5.03711447572\n",
      "Computed:\n",
      "* psi=-0.0629401573587 degree\n",
      "* Q=[ 0.16200456 -0.80499496  0.46630071]\n",
      "* hkl2Qmat=[[-0.65965376  0.9350686   0.        ]\n",
      " [ 0.66119335  0.46644565 -0.80916512]\n",
      " [-0.66119335 -0.46644565 -0.80916512]]\n",
      "* ki=22.0879917858\n",
      "* vectors ki=[ 22.08799179   0.           0.        ], kf=[ 21.92598722   0.80499496  -0.46630071]\n",
      "These two numbers should be very close:\n",
      "  12.9818684844\n",
      "  12.9818684844\n",
      "  Ei=1010.94552405, Ef=997.963655566\n",
      "* Ef=997.963655566\n",
      "* pixel positon=[ 2.99798014  0.11006843 -0.06375814]\n",
      "* pixel_position=[ 2.99798014  0.11006843 -0.06375814]\n",
      "t_m2s=0.000982956131398, t_s2p=0.000217164989231, t_m2p=0.00120012112063\n",
      "-772.99326197 [-9.97075477 -5.70846565  8.15706251]\n",
      "Ei=1010.94552405, t0=5.03711447572\n",
      "Computed:\n",
      "* psi=0.0506687997541 degree\n",
      "* Q=[ -2.55923307 -15.7959606   -1.98131916]\n",
      "* hkl2Qmat=[[ -6.61506567e-01   9.33758766e-01  -7.78484270e-17]\n",
      " [  6.60267155e-01   4.67755780e-01  -8.09165116e-01]\n",
      " [ -6.60267155e-01  -4.67755780e-01  -8.09165116e-01]]\n",
      "* ki=22.0879917858\n",
      "* vectors ki=[ 22.08799179   0.           0.        ], kf=[ 24.64722485  15.7959606    1.98131916]\n",
      "These two numbers should be very close:\n",
      "  -772.99326197\n",
      "  -772.99326197\n",
      "  Ei=1010.94552405, Ef=1783.93878602\n",
      "* Ef=1783.93878602\n",
      "* pixel positon=[ 2.52580234  1.61874103  0.20304195]\n",
      "* pixel_position=[ 2.52580234  1.61874103  0.20304195]\n",
      "t_m2s=0.000982956131398, t_s2p=0.000162761449774, t_m2p=0.00114571758117\n",
      "-727.285829721 [ -8.74958335  -0.83982811  11.02871132]\n",
      "Ei=1010.94552405, t0=5.03711447572\n",
      "Computed:\n",
      "* psi=0.0467099566142 degree\n",
      "* Q=[ -2.049448   -13.72143649  -8.24448886]\n",
      "* hkl2Qmat=[[ -6.61442048e-01   9.33804470e-01  -7.78446168e-17]\n",
      " [  6.60299473e-01   4.67710157e-01  -8.09165116e-01]\n",
      " [ -6.60299473e-01  -4.67710157e-01  -8.09165116e-01]]\n",
      "* ki=22.0879917858\n",
      "* vectors ki=[ 22.08799179   0.           0.        ], kf=[ 24.13743979  13.72143649   8.24448886]\n",
      "These two numbers should be very close:\n",
      "  -727.285829721\n",
      "  -727.285829721\n",
      "  Ei=1010.94552405, Ef=1738.23135377\n",
      "* Ef=1738.23135377\n",
      "* pixel positon=[ 2.60804558  1.48259849  0.89081538]\n",
      "* pixel_position=[ 2.60804558  1.48259849  0.89081538]\n",
      "t_m2s=0.000982956131398, t_s2p=0.000171610631073, t_m2p=0.00115456676247\n",
      "-105.842797827 [ 0.72860767 -3.59132617 -3.82661603]\n",
      "Ei=1010.94552405, t0=5.03711447572\n",
      "Computed:\n",
      "* psi=-0.128142670686 degree\n",
      "* Q=[-0.32415628  0.79141748  6.00234007]\n",
      "* hkl2Qmat=[[ -6.58589231e-01   9.35818677e-01   7.76770681e-17]\n",
      " [  6.61723733e-01   4.65692911e-01  -8.09165116e-01]\n",
      " [ -6.61723733e-01  -4.65692911e-01  -8.09165116e-01]]\n",
      "* ki=22.0879917858\n",
      "* vectors ki=[ 22.08799179   0.           0.        ], kf=[ 22.41214806  -0.79141748  -6.00234007]\n",
      "These two numbers should be very close:\n",
      "  -105.842797827\n",
      "  -105.842797827\n",
      "  Ei=1010.94552405, Ef=1116.78832188\n",
      "* Ef=1116.78832188\n",
      "* pixel positon=[ 2.99813134 -0.10586998 -0.80294864]\n",
      "* pixel_position=[ 2.99813134 -0.10586998 -0.80294864]\n",
      "t_m2s=0.000982956131398, t_s2p=0.000212464994822, t_m2p=0.00119542112622\n",
      "-692.136942809 [-12.48772268  -1.25803408  10.58039554]\n",
      "Ei=1010.94552405, t0=5.03711447572\n",
      "Computed:\n",
      "* psi=-0.00775756215176 degree\n",
      "* Q=[  0.42664671 -17.1984584   -7.54332969]\n",
      "* hkl2Qmat=[[-0.66055404  0.93443284  0.        ]\n",
      " [ 0.6607438   0.46708224 -0.80916512]\n",
      " [-0.6607438  -0.46708224 -0.80916512]]\n",
      "* ki=22.0879917858\n",
      "* vectors ki=[ 22.08799179   0.           0.        ], kf=[ 21.66134507  17.1984584    7.54332969]\n",
      "These two numbers should be very close:\n",
      "  -692.136942809\n",
      "  -692.136942809\n",
      "  Ei=1010.94552405, Ef=1703.08246686\n",
      "* Ef=1703.08246686\n",
      "* pixel positon=[ 2.34950146  1.8654337   0.81818853]\n",
      "* pixel_position=[ 2.34950146  1.8654337   0.81818853]\n",
      "t_m2s=0.000982956131398, t_s2p=0.000172270341094, t_m2p=0.00115522647249\n",
      "893.773140638 [-8.0379875   8.40688934 -6.31824498]\n",
      "Ei=1010.94552405, t0=5.03711447572\n",
      "Computed:\n",
      "* psi=-4.03336326961 degree\n",
      "* Q=[ 14.95751572  -1.6873255   -1.69005815]\n",
      "* hkl2Qmat=[[ -5.93324987e-01   9.78499786e-01   7.42888779e-17]\n",
      " [  6.91903834e-01   4.19544122e-01  -8.09165116e-01]\n",
      " [ -6.91903834e-01  -4.19544122e-01  -8.09165116e-01]]\n",
      "* ki=22.0879917858\n",
      "* vectors ki=[ 22.08799179   0.           0.        ], kf=[ 7.13047606  1.6873255   1.69005815]\n",
      "These two numbers should be very close:\n",
      "  893.773140638\n",
      "  893.773140638\n",
      "  Ei=1010.94552405, Ef=117.172383412\n",
      "* Ef=117.172383412\n",
      "* pixel positon=[ 2.91937591  0.69082869  0.6919475 ]\n",
      "* pixel_position=[ 2.91937591  0.69082869  0.6919475 ]\n",
      "t_m2s=0.000982956131398, t_s2p=0.00065026699226, t_m2p=0.00163322312366\n",
      "-416.880701737 [-25.90195658  -4.6331761   -3.62894129]\n",
      "Ei=1010.94552405, t0=5.03711447572\n",
      "Computed:\n",
      "* psi=-0.20712537025 degree\n",
      "* Q=[ 16.360149   -24.72977586   6.68541718]\n",
      "* hkl2Qmat=[[ -6.57298572e-01   9.36725658e-01  -7.76018576e-17]\n",
      " [  6.62365065e-01   4.64780277e-01  -8.09165116e-01]\n",
      " [ -6.62365065e-01  -4.64780277e-01  -8.09165116e-01]]\n",
      "* ki=22.0879917858\n",
      "* vectors ki=[ 22.08799179   0.           0.        ], kf=[  5.72784278  24.72977586  -6.68541718]\n",
      "These two numbers should be very close:\n",
      "  -416.880701737\n",
      "  -416.880701737\n",
      "  Ei=1010.94552405, Ef=1427.82622579\n",
      "* Ef=1427.82622579\n",
      "* pixel positon=[ 0.67693144  2.92262961 -0.79010009]\n",
      "* pixel_position=[ 0.67693144  2.92262961 -0.79010009]\n",
      "t_m2s=0.000982956131398, t_s2p=0.000187704124087, t_m2p=0.00117066025549\n"
     ]
    }
   ],
   "source": [
    "outdir = 'tmp.use_res_comps'\n",
    "beam = '/SNS/users/p63/ORNL_public_research/MCViNE_Covmat_comparison/mcvine_resolution/beams/beam_1000_1e9/'\n",
    "for E, hkl in zip(Es, hkls):\n",
    "    print E,hkl\n",
    "    outdir1 = os.path.join(outdir, 'E%s_hkl%s' % (E, '%s,%s,%s' % tuple(hkl)))\n",
    "    use_res_comps.setup(outdir1, sample_yml, beam, E, hkl, hkl_dir, psi_scan, instrument, pixel)"
   ]
  },
  {
   "cell_type": "code",
   "execution_count": 20,
   "metadata": {
    "collapsed": false
   },
   "outputs": [
    {
     "name": "stdout",
     "output_type": "stream",
     "text": [
      "\u001b[0m\u001b[01;34mE-105.842797827_hkl0.728607667739,-3.59132617053,-3.82661603247\u001b[0m/\r\n",
      "\u001b[01;34mE12.9818684844_hkl-0.656429792334,-0.493078362965,-0.0831954995442\u001b[0m/\r\n",
      "\u001b[01;34mE-323.843668347_hkl-15.6200738105,-1.39168323049,6.5706904573\u001b[0m/\r\n",
      "\u001b[01;34mE-416.880701737_hkl-25.9019565755,-4.63317610171,-3.62894128981\u001b[0m/\r\n",
      "\u001b[01;34mE6.7196957037_hkl-19.1008767624,-4.16179268643,-2.75520001804\u001b[0m/\r\n",
      "\u001b[01;34mE-692.136942809_hkl-12.4877226777,-1.25803408259,10.580395539\u001b[0m/\r\n",
      "\u001b[01;34mE-727.285829721_hkl-8.74958335105,-0.839828112254,11.0287113159\u001b[0m/\r\n",
      "\u001b[01;34mE-772.99326197_hkl-9.97075477125,-5.7084656489,8.15706250536\u001b[0m/\r\n",
      "\u001b[01;34mE893.773140638_hkl-8.03798750389,8.40688933751,-6.31824498238\u001b[0m/\r\n",
      "\u001b[01;34mE-940.3357965_hkl-30.7705367397,-4.33257929438,-1.60464016031\u001b[0m/\r\n"
     ]
    }
   ],
   "source": [
    "ls tmp.use_res_comps/"
   ]
  },
  {
   "cell_type": "code",
   "execution_count": 22,
   "metadata": {
    "collapsed": false
   },
   "outputs": [
    {
     "name": "stdout",
     "output_type": "stream",
     "text": [
      "weight:  1.0\n",
      "0-60994: ..........\n",
      "Done.\n"
     ]
    },
    {
     "name": "stderr",
     "output_type": "stream",
     "text": [
      "/SNS/software/miniconda2/envs/mcvine-unstable/lib/python2.7/site-packages/mcni/SimulationContext.py:39: UserWarning: output directory was not set\n",
      "  warnings.warn(\"output directory was not set\")\n"
     ]
    },
    {
     "name": "stdout",
     "output_type": "stream",
     "text": [
      "CPU times: user 5.22 ms, sys: 8.28 ms, total: 13.5 ms\n",
      "Wall time: 15.5 s\n"
     ]
    }
   ],
   "source": [
    "%%time\n",
    "%%script bash\n",
    "cd tmp.use_res_comps/E-105.842797827_hkl0.728607667739,-3.59132617053,-3.82661603247/\n",
    "python run.py"
   ]
  },
  {
   "cell_type": "code",
   "execution_count": 27,
   "metadata": {
    "collapsed": false
   },
   "outputs": [
    {
     "name": "stdout",
     "output_type": "stream",
     "text": [
      "/SNS/users/p63/ORNL_public_research/MCViNE_Covmat_comparison/notebooks/3-generate-samples-for-fitting/tmp.use_res_comps\n",
      "E-105.842797827_hkl0.728607667739,-3.59132617053,-3.82661603247\n",
      "E12.9818684844_hkl-0.656429792334,-0.493078362965,-0.0831954995442\n",
      "E-323.843668347_hkl-15.6200738105,-1.39168323049,6.5706904573\n",
      "E-416.880701737_hkl-25.9019565755,-4.63317610171,-3.62894128981\n",
      "E6.7196957037_hkl-19.1008767624,-4.16179268643,-2.75520001804\n",
      "E-692.136942809_hkl-12.4877226777,-1.25803408259,10.580395539\n",
      "E-727.285829721_hkl-8.74958335105,-0.839828112254,11.0287113159\n",
      "E-772.99326197_hkl-9.97075477125,-5.7084656489,8.15706250536\n",
      "E893.773140638_hkl-8.03798750389,8.40688933751,-6.31824498238\n",
      "E-940.3357965_hkl-30.7705367397,-4.33257929438,-1.60464016031\n",
      "[Errno 2] No such file or directory: 'tmp.use_res_comps'\n",
      "/SNS/users/p63/ORNL_public_research/MCViNE_Covmat_comparison/notebooks/3-generate-samples-for-fitting/tmp.use_res_comps\n",
      "E-105.842797827_hkl0.728607667739,-3.59132617053,-3.82661603247\n",
      "E12.9818684844_hkl-0.656429792334,-0.493078362965,-0.0831954995442\n",
      "E-323.843668347_hkl-15.6200738105,-1.39168323049,6.5706904573\n",
      "E-416.880701737_hkl-25.9019565755,-4.63317610171,-3.62894128981\n",
      "E6.7196957037_hkl-19.1008767624,-4.16179268643,-2.75520001804\n",
      "E-692.136942809_hkl-12.4877226777,-1.25803408259,10.580395539\n",
      "E-727.285829721_hkl-8.74958335105,-0.839828112254,11.0287113159\n",
      "E-772.99326197_hkl-9.97075477125,-5.7084656489,8.15706250536\n",
      "E893.773140638_hkl-8.03798750389,8.40688933751,-6.31824498238\n",
      "E-940.3357965_hkl-30.7705367397,-4.33257929438,-1.60464016031\n",
      "/SNS/users/p63/ORNL_public_research/MCViNE_Covmat_comparison/notebooks/3-generate-samples-for-fitting/tmp.use_res_comps/E-105.842797827_hkl0.728607667739,-3.59132617053,-3.82661603247\n"
     ]
    }
   ],
   "source": [
    "!pwd\n",
    "!ls\n",
    "%cd tmp.use_res_comps\n",
    "!ls\n",
    "%cd E-105.842797827_hkl0.728607667739,-3.59132617053,-3.82661603247/"
   ]
  },
  {
   "cell_type": "code",
   "execution_count": 30,
   "metadata": {
    "collapsed": false
   },
   "outputs": [
    {
     "name": "stdout",
     "output_type": "stream",
     "text": [
      "/SNS/users/p63/ORNL_public_research/MCViNE_Covmat_comparison/notebooks/3-generate-samples-for-fitting/tmp.use_res_comps/E-105.842797827_hkl0.728607667739,-3.59132617053,-3.82661603247\n",
      "dEs.npy  dhkls.npy  dxs.npy  probs.npy\tres.h5\trun.py\tsample\n"
     ]
    },
    {
     "name": "stderr",
     "output_type": "stream",
     "text": [
      "/SNS/software/miniconda2/envs/mcvine-unstable/lib/python2.7/site-packages/histogram/hdf/Loader.py:129: FutureWarning: elementwise comparison failed; returning scalar instead, but in the future will perform elementwise comparison\n",
      "  if 'storage' in list(dataGroup): # this uses the 'storage' convention\n"
     ]
    }
   ],
   "source": [
    "!pwd\n",
    "!ls\n",
    "res = hh.load('res.h5')"
   ]
  },
  {
   "cell_type": "code",
   "execution_count": 39,
   "metadata": {
    "collapsed": false
   },
   "outputs": [
    {
     "data": {
      "text/plain": [
       "<matplotlib.colorbar.Colorbar at 0x7f0a706181d0>"
      ]
     },
     "execution_count": 39,
     "metadata": {},
     "output_type": "execute_result"
    },
    {
     "data": {
      "image/png": "[encoded data removed]",
      "text/plain": [
       "<matplotlib.figure.Figure at 0x7f0a706ee1d0>"
      ]
     },
     "metadata": {},
     "output_type": "display_data"
    }
   ],
   "source": [
    "q = res.x\n",
    "E = res.E\n",
    "dE = E[1]-E[0]\n",
    "dq = q[1]-q[0]\n",
    "Eg, qg = np.mgrid[slice(E[0], E[-1]+dE/2, E[1]-E[0]), slice(q[0], q[-1]+dq/2, q[1]-q[0])]\n",
    "\n",
    "# plt.figure(figsize=(4,6))\n",
    "plt.pcolormesh(qg, Eg, res.I.T, cmap='viridis')\n",
    "plt.clim(0, 20)\n",
    "#plt.xlim(-0.4,0.2)\n",
    "#plt.ylim(-10,7)\n",
    "plt.colorbar()"
   ]
  },
  {
   "cell_type": "code",
   "execution_count": null,
   "metadata": {
    "collapsed": true
   },
   "outputs": [],
   "source": []
  }
 ],
 "metadata": {
  "kernelspec": {
   "display_name": "mcvine-unstable at jnrk-sns-analysis",
   "language": "python",
   "name": "jnrk-sns-analysis-mcvine-unstable"
  },
  "language_info": {
   "codemirror_mode": {
    "name": "ipython",
    "version": 2
   },
   "file_extension": ".py",
   "mimetype": "text/x-python",
   "name": "python",
   "nbconvert_exporter": "python",
   "pygments_lexer": "ipython2",
   "version": "2.7.12"
  }
 },
 "nbformat": 4,
 "nbformat_minor": 0
}
